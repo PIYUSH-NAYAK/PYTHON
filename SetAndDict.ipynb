{
 "cells": [
  {
   "cell_type": "code",
   "execution_count": null,
   "id": "a0e5a21a-22fb-4a0f-bb48-d49b1550b7b8",
   "metadata": {},
   "outputs": [],
   "source": [
    " # SET AND DICT"
   ]
  },
  {
   "cell_type": "code",
   "execution_count": null,
   "id": "d819ae29-6f41-4bda-9988-524bd581c610",
   "metadata": {},
   "outputs": [],
   "source": [
    "x='GOOD MORNING'\n",
    "print(x)\n",
    "s=set(x)\n",
    "print(s)\n",
    "l1=list(x)\n",
    "print(l1)"
   ]
  },
  {
   "cell_type": "code",
   "execution_count": null,
   "id": "ecfc6264-da53-4147-8872-ed461f22bc83",
   "metadata": {},
   "outputs": [],
   "source": [
    "a={1,2,3,4,5}\n",
    "\n",
    "b={3,4,5}\n",
    "print(a&b)\n",
    "print(a.intersection(b))\n",
    "print(a|b)\n",
    "print(a.union(b))\n",
    "print(a-b)\n",
    "print(b.difference(a))\n",
    "print(a.difference(b))"
   ]
  },
  {
   "cell_type": "code",
   "execution_count": null,
   "id": "77a94ea9-1911-483b-b808-c692bbe1ee1b",
   "metadata": {},
   "outputs": [],
   "source": [
    "print(b.issubset(a))"
   ]
  },
  {
   "cell_type": "code",
   "execution_count": null,
   "id": "e623aead-8608-4851-805c-e920e4004645",
   "metadata": {},
   "outputs": [],
   "source": [
    "a={1,2,5,1,7,8}\n",
    "a"
   ]
  },
  {
   "cell_type": "code",
   "execution_count": null,
   "id": "0756f20f-1a2b-44cc-8fd4-33845fee0869",
   "metadata": {},
   "outputs": [],
   "source": [
    " a=[1,4,2,8,1,7,5]\n",
    "b=set(a)\n",
    "c=sorted(a)\n",
    "print(\"new set\", b)\n",
    "print(\"old list\", a)\n",
    "print(\"sorted list\",c)\n"
   ]
  },
  {
   "cell_type": "code",
   "execution_count": null,
   "id": "f93c476b-c65c-46ec-94c5-e88caa6ba97a",
   "metadata": {},
   "outputs": [],
   "source": [
    "b.add(3)\n",
    "print(\"new set\",b)"
   ]
  },
  {
   "cell_type": "code",
   "execution_count": null,
   "id": "37774c53-a740-4dc7-ab7b-0f91c121c8eb",
   "metadata": {},
   "outputs": [],
   "source": [
    "b.remove(5)\n",
    "print(b)"
   ]
  },
  {
   "cell_type": "code",
   "execution_count": null,
   "id": "d72be0ec-50f3-4c80-85b6-d1148d4d010e",
   "metadata": {},
   "outputs": [],
   "source": [
    "# remove,clear,pop,discard inset for removing element"
   ]
  },
  {
   "cell_type": "code",
   "execution_count": null,
   "id": "d470dad3-e5dd-4801-9a26-954f4e3fd13d",
   "metadata": {},
   "outputs": [],
   "source": [
    "# frozenset is immutable\n"
   ]
  },
  {
   "cell_type": "code",
   "execution_count": null,
   "id": "301c5bf6-1bfd-42d7-a05a-629edabb1068",
   "metadata": {},
   "outputs": [],
   "source": [
    "# DICT\n",
    "emp={\n",
    "    'ename':\"PIYUSH\",\n",
    "    \"eid\": \"6987\",\n",
    "    \"salary\": 5000\n",
    "    \n",
    "}\n",
    "print(emp[\"ename\"])\n",
    "print(emp[\"salary\"])"
   ]
  },
  {
   "cell_type": "code",
   "execution_count": null,
   "id": "e1ec2202-c76b-4ad1-ad32-c592afacc71e",
   "metadata": {},
   "outputs": [],
   "source": [
    "person= {\"name\":['Piyush','Lakshya','Arun','Tanish']}\n",
    "person[\"name\"][2]\n",
    "p1=person[\"name\"]\n",
    "print(p1[2])\n",
    "# p1 doesn't make a copy of person it just take its refernce point so any change in p1 will cause change in person"
   ]
  },
  {
   "cell_type": "code",
   "execution_count": null,
   "id": "2f131168-fe76-4db6-a432-52f6e3002d07",
   "metadata": {},
   "outputs": [],
   "source": [
    "p1.append('Amrit')\n",
    "# person['name'].append('Swyam')\n",
    "print(p1)\n",
    "print(person[\"name\"])"
   ]
  },
  {
   "cell_type": "code",
   "execution_count": null,
   "id": "abebee23-c8e6-481d-a901-699bb27b312b",
   "metadata": {},
   "outputs": [],
   "source": [
    "# so I have make a copy of person so changing copy doesn't affect original one\n",
    "p2=person['name'].copy()\n",
    "p2.append('Abhay')\n",
    "print(person['name'])\n",
    "print(p2)"
   ]
  },
  {
   "cell_type": "code",
   "execution_count": null,
   "id": "d0e5301d-347c-4dbf-90e1-72b01ee3f9e4",
   "metadata": {},
   "outputs": [],
   "source": [
    "person['name'][3]='SID'\n",
    "print(person['name'])"
   ]
  },
  {
   "cell_type": "code",
   "execution_count": null,
   "id": "891e1b0c-8263-417c-8507-0135991235b4",
   "metadata": {},
   "outputs": [],
   "source": [
    "# del it will fully delete the dict , it is also used to delete any key and value\n",
    "# clear will remove data of dict if used dict.clear\n",
    "# pop "
   ]
  },
  {
   "cell_type": "code",
   "execution_count": null,
   "id": "863a72ca-265a-45bb-a122-64383edf2766",
   "metadata": {},
   "outputs": [],
   "source": [
    "# dict.values\n",
    "# and dict.keys can show key and values"
   ]
  },
  {
   "cell_type": "code",
   "execution_count": null,
   "id": "74aef0fa-3a13-441c-ac9d-2c4a2b92db70",
   "metadata": {},
   "outputs": [],
   "source": [
    "name = {'fname':['Piyush','lakshya','tanish','sid','arun'], 'lname': ['Nayak','agarwal','oral','singh','swami']}\n",
    "print(name.keys())\n",
    "print(name.values())"
   ]
  },
  {
   "cell_type": "code",
   "execution_count": null,
   "id": "44f5d80c-05b9-482c-8fb1-1e0d6abb861b",
   "metadata": {},
   "outputs": [],
   "source": [
    "# elements in dict can be printed through dict.items()\n",
    "for i,j in name.items():\n",
    "    print(i ,j)\n"
   ]
  },
  {
   "cell_type": "code",
   "execution_count": null,
   "id": "2fa67687-ac26-4174-b13a-7a500e433c05",
   "metadata": {},
   "outputs": [],
   "source": [
    "dict1 = {\n",
    "    \"ename\" : \"Piyush\",\n",
    "    \"cname\" : \"Unitrends\",\n",
    "    \"av.pack\": \"36 lakh\",\n",
    "    \"total-empl\": \"69\"\n",
    "}\n",
    "print(dict1)\n",
    "del(dict1['av.pack'])\n",
    "print(dict1)\n"
   ]
  },
  {
   "cell_type": "code",
   "execution_count": null,
   "id": "5181f6b4-47b0-44bb-8b2a-67c68b8dc32d",
   "metadata": {},
   "outputs": [],
   "source": [
    "dict1['stream'] =\"Machine learning\"\n",
    "print(dict1)\n",
    "dict1.pop('stream')\n",
    "print(dict1)"
   ]
  },
  {
   "cell_type": "code",
   "execution_count": null,
   "id": "bf5907a9-26c2-4910-b7f6-b2bda14d3658",
   "metadata": {},
   "outputs": [],
   "source": [
    "# copy of dict can be made very easily actually it just taking its refernce\n",
    "dict2=dict1\n",
    "# print(dict1)\n",
    "# print(dict2)\n",
    "dict2[\"CEO\"]='Piyush'\n",
    "# print(dict1)\n",
    "# for copy dict we can use .copy()\n",
    "dict3=dict2.copy()\n",
    "# dict3\n",
    "\n",
    "dict3[\"CFO\"]=\"NONE\"\n",
    "print(dict2)\n",
    "print(dict3)"
   ]
  },
  {
   "cell_type": "code",
   "execution_count": null,
   "id": "c6f2e6d2-c79f-479d-9a47-c94a4e32bce8",
   "metadata": {},
   "outputs": [],
   "source": [
    "# now we have a zip function to iterate two list at a time\n",
    "name=['Piyush','lakshya','sid','amrit']\n",
    "company=['Amazon','google','microsoft','meta']\n",
    "\n",
    "for(c,o) in zip (name,company):\n",
    "    print(c,'have grabbed the offer form',o)\n",
    "for name,company in zip (name,company):\n",
    "    print(name,company)"
   ]
  },
  {
   "cell_type": "code",
   "execution_count": null,
   "id": "6c6d8138-824d-49d5-b566-b4ca2d08e890",
   "metadata": {},
   "outputs": [],
   "source": [
    "student={name:company for name,company in zip (name,company)}\n",
    "print(student)"
   ]
  }
 ],
 "metadata": {
  "kernelspec": {
   "display_name": "Python 3 (ipykernel)",
   "language": "python",
   "name": "python3"
  },
  "language_info": {
   "codemirror_mode": {
    "name": "ipython",
    "version": 3
   },
   "file_extension": ".py",
   "mimetype": "text/x-python",
   "name": "python",
   "nbconvert_exporter": "python",
   "pygments_lexer": "ipython3",
   "version": "3.12.0"
  }
 },
 "nbformat": 4,
 "nbformat_minor": 5
}

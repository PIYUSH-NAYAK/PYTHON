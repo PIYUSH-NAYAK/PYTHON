{
 "cells": [
  {
   "cell_type": "code",
   "execution_count": 3,
   "id": "9b2652ae",
   "metadata": {},
   "outputs": [
    {
     "data": {
      "text/plain": [
       "'piyush'"
      ]
     },
     "execution_count": 3,
     "metadata": {},
     "output_type": "execute_result"
    }
   ],
   "source": [
    "l1 = [10,20,'piyush']\n",
    "l1[2]"
   ]
  },
  {
   "cell_type": "code",
   "execution_count": 4,
   "id": "f33d33d3",
   "metadata": {
    "scrolled": true
   },
   "outputs": [
    {
     "data": {
      "text/plain": [
       "20"
      ]
     },
     "execution_count": 4,
     "metadata": {},
     "output_type": "execute_result"
    }
   ],
   "source": [
    "l1[1]\n"
   ]
  },
  {
   "cell_type": "code",
   "execution_count": 5,
   "id": "63b65f8f",
   "metadata": {},
   "outputs": [
    {
     "name": "stdout",
     "output_type": "stream",
     "text": [
      "<class 'list'>\n"
     ]
    },
    {
     "data": {
      "text/plain": [
       "10"
      ]
     },
     "execution_count": 5,
     "metadata": {},
     "output_type": "execute_result"
    }
   ],
   "source": [
    "print(type(l1))\n",
    "l1[0]"
   ]
  },
  {
   "cell_type": "code",
   "execution_count": 7,
   "id": "dbf6a033",
   "metadata": {},
   "outputs": [
    {
     "name": "stdout",
     "output_type": "stream",
     "text": [
      "[10, 20, 30, 40, 50, 10, 20, 30, 40, 50, 10, 20, 30, 40, 50, 10, 20, 30, 40, 50, 10, 20, 30, 40, 50]\n"
     ]
    }
   ],
   "source": [
    "l1=[10,20,30,40,50]\n",
    "print(l1*5)\n"
   ]
  },
  {
   "cell_type": "code",
   "execution_count": 8,
   "id": "d988337d",
   "metadata": {},
   "outputs": [],
   "source": [
    "l1[2]='piyush'"
   ]
  },
  {
   "cell_type": "code",
   "execution_count": 9,
   "id": "2327cd08",
   "metadata": {},
   "outputs": [
    {
     "name": "stdout",
     "output_type": "stream",
     "text": [
      "[10, 20, 'piyush', 40, 50]\n"
     ]
    }
   ],
   "source": [
    "print(l1)"
   ]
  },
  {
   "cell_type": "code",
   "execution_count": 10,
   "id": "5eecaf25",
   "metadata": {},
   "outputs": [
    {
     "name": "stdout",
     "output_type": "stream",
     "text": [
      "[10, 20, 'piyush', 40, 50, 'Nayak']\n"
     ]
    }
   ],
   "source": [
    "l1.append('Nayak')\n",
    "print(l1)"
   ]
  },
  {
   "cell_type": "code",
   "execution_count": 11,
   "id": "66c56d62",
   "metadata": {},
   "outputs": [
    {
     "name": "stdout",
     "output_type": "stream",
     "text": [
      "[10, 20, 'piyush', 'Rishu', 40, 50, 'Nayak']\n"
     ]
    }
   ],
   "source": [
    "# for inserting elements in list\n",
    "# .insert(index,value)\n",
    "l1.insert(3,'Rishu')\n",
    "print(l1)"
   ]
  },
  {
   "cell_type": "code",
   "execution_count": 13,
   "id": "bcd634dc",
   "metadata": {},
   "outputs": [
    {
     "data": {
      "text/plain": [
       "[10, 20, (1, 2, 3, 4), 'piyush', 'Rishu', 40, 50, 'Nayak']"
      ]
     },
     "execution_count": 13,
     "metadata": {},
     "output_type": "execute_result"
    }
   ],
   "source": [
    "# adding tuple in a list \n",
    "l1.insert(2,(1,2,3,4))\n",
    "l1"
   ]
  },
  {
   "cell_type": "code",
   "execution_count": 14,
   "id": "4955ec0b",
   "metadata": {},
   "outputs": [
    {
     "data": {
      "text/plain": [
       "[10, 20, 'HELLO', (1, 2, 3, 4), 'piyush', 'Rishu', 40, 50, 'Nayak']"
      ]
     },
     "execution_count": 14,
     "metadata": {},
     "output_type": "execute_result"
    }
   ],
   "source": [
    "l1.insert(2,'HELLO')\n",
    "l1"
   ]
  },
  {
   "cell_type": "code",
   "execution_count": 15,
   "id": "d60f3cec",
   "metadata": {},
   "outputs": [
    {
     "name": "stdout",
     "output_type": "stream",
     "text": [
      "[1, 2, 3, 4]\n",
      "[1, 2, 3, 4, 5, 6, 7]\n"
     ]
    }
   ],
   "source": [
    "# Another inbuilt function in python 'extend'\n",
    "# as through append we can add only one value at the end\n",
    "# but through extend function we can add as many as we want at the end\n",
    "l1=[1,2,3]\n",
    "l1.append(4)\n",
    "print(l1)\n",
    "l1.extend([5,6,7])\n",
    "print(l1)\n"
   ]
  },
  {
   "cell_type": "code",
   "execution_count": 4,
   "id": "9fca92a9",
   "metadata": {},
   "outputs": [],
   "source": [
    " # for deleting value we have \n",
    "#     Del\n",
    "#     Remove\n",
    "#     Pop\n"
   ]
  },
  {
   "cell_type": "code",
   "execution_count": 9,
   "id": "1ed0c695",
   "metadata": {
    "scrolled": true
   },
   "outputs": [
    {
     "name": "stdout",
     "output_type": "stream",
     "text": [
      "[1, 2, 3, 4]\n",
      "[1, 2, 3, 4]\n",
      "[1, 2, 3, 4]\n"
     ]
    }
   ],
   "source": [
    " p1=[1,2,3,4]\n",
    " s1=[1,2,3,4]\n",
    " print(p1)\n",
    " print(s1)\n",
    "del(p1)\n",
    "print(s1)\n",
    "# print(p1)\n"
   ]
  },
  {
   "cell_type": "code",
   "execution_count": 11,
   "id": "af888ceb",
   "metadata": {},
   "outputs": [
    {
     "name": "stdout",
     "output_type": "stream",
     "text": [
      "[]\n"
     ]
    }
   ],
   "source": [
    "s1.clear()\n",
    "print(s1)"
   ]
  },
  {
   "cell_type": "code",
   "execution_count": 31,
   "id": "5eea6376",
   "metadata": {},
   "outputs": [
    {
     "name": "stdout",
     "output_type": "stream",
     "text": [
      "[1, 2, 4, 5]\n",
      "[5]\n"
     ]
    }
   ],
   "source": [
    "l1=[1,2,3,4,5]\n",
    "del(l1[2])\n",
    "print(l1)\n",
    "del(l1[0:3])\n",
    "print(l1)"
   ]
  },
  {
   "cell_type": "code",
   "execution_count": 17,
   "id": "d71ab3ab",
   "metadata": {},
   "outputs": [
    {
     "name": "stdout",
     "output_type": "stream",
     "text": [
      "[2, 3, 4, 1]\n"
     ]
    }
   ],
   "source": [
    "s1=[1,2,3,4,1]\n",
    "s1.remove(1)\n",
    "print(s1)"
   ]
  },
  {
   "cell_type": "code",
   "execution_count": 1,
   "id": "8c510305",
   "metadata": {},
   "outputs": [
    {
     "name": "stdout",
     "output_type": "stream",
     "text": [
      "[2, 4, 2, 4, 5]\n"
     ]
    }
   ],
   "source": [
    "sp=[1,2,3,4,1,2,3,4,5]\n",
    "while 1 in sp:\n",
    "    sp.remove(1)\n",
    "while 3 in sp:\n",
    "    sp.remove(3)\n",
    "print(sp)\n",
    "\n",
    "    \n",
    "    \n",
    "    \n",
    "    \n",
    "\n"
   ]
  },
  {
   "cell_type": "code",
   "execution_count": 29,
   "id": "3b16f616",
   "metadata": {},
   "outputs": [
    {
     "name": "stdout",
     "output_type": "stream",
     "text": [
      "[1, 2, 4, 5]\n",
      "3\n"
     ]
    }
   ],
   "source": [
    "# pop can be assigned to some var but del can't\n",
    "sp=[1,2,3,4,5]\n",
    "a=sp.pop(2)\n",
    "print(sp)\n",
    "print(a)"
   ]
  },
  {
   "cell_type": "code",
   "execution_count": 33,
   "id": "0ffb87eb",
   "metadata": {},
   "outputs": [
    {
     "name": "stdout",
     "output_type": "stream",
     "text": [
      "3\n"
     ]
    }
   ],
   "source": [
    "print(a)"
   ]
  },
  {
   "cell_type": "code",
   "execution_count": 34,
   "id": "ca7c2c05",
   "metadata": {},
   "outputs": [],
   "source": [
    "# append\n",
    "# extend\n",
    "# insert\n",
    "# Del\n",
    "# clear\n",
    "# remove\n",
    "# pop"
   ]
  },
  {
   "cell_type": "code",
   "execution_count": 36,
   "id": "2c0d1caf",
   "metadata": {},
   "outputs": [
    {
     "data": {
      "text/plain": [
       "['__add__',\n",
       " '__class__',\n",
       " '__class_getitem__',\n",
       " '__contains__',\n",
       " '__delattr__',\n",
       " '__delitem__',\n",
       " '__dir__',\n",
       " '__doc__',\n",
       " '__eq__',\n",
       " '__format__',\n",
       " '__ge__',\n",
       " '__getattribute__',\n",
       " '__getitem__',\n",
       " '__getstate__',\n",
       " '__gt__',\n",
       " '__hash__',\n",
       " '__iadd__',\n",
       " '__imul__',\n",
       " '__init__',\n",
       " '__init_subclass__',\n",
       " '__iter__',\n",
       " '__le__',\n",
       " '__len__',\n",
       " '__lt__',\n",
       " '__mul__',\n",
       " '__ne__',\n",
       " '__new__',\n",
       " '__reduce__',\n",
       " '__reduce_ex__',\n",
       " '__repr__',\n",
       " '__reversed__',\n",
       " '__rmul__',\n",
       " '__setattr__',\n",
       " '__setitem__',\n",
       " '__sizeof__',\n",
       " '__str__',\n",
       " '__subclasshook__',\n",
       " 'append',\n",
       " 'clear',\n",
       " 'copy',\n",
       " 'count',\n",
       " 'extend',\n",
       " 'index',\n",
       " 'insert',\n",
       " 'pop',\n",
       " 'remove',\n",
       " 'reverse',\n",
       " 'sort']"
      ]
     },
     "execution_count": 36,
     "metadata": {},
     "output_type": "execute_result"
    }
   ],
   "source": [
    "  dir(list\n",
    "     )"
   ]
  },
  {
   "cell_type": "code",
   "execution_count": 39,
   "id": "c1e5aeed",
   "metadata": {},
   "outputs": [
    {
     "name": "stdout",
     "output_type": "stream",
     "text": [
      "[5, 4, 3, 2, 1]\n"
     ]
    }
   ],
   "source": [
    "p=[1,2,3,4,5]\n",
    "p.reverse()\n",
    "print(p)"
   ]
  },
  {
   "cell_type": "code",
   "execution_count": 40,
   "id": "9ce757f6",
   "metadata": {},
   "outputs": [
    {
     "name": "stdout",
     "output_type": "stream",
     "text": [
      "[1, 3, 4, 4, 5, 7]\n"
     ]
    }
   ],
   "source": [
    "p=[1,4,3,5,7,4]\n",
    "p.sort()\n",
    "print(p)"
   ]
  },
  {
   "cell_type": "code",
   "execution_count": 43,
   "id": "a3642e7d",
   "metadata": {},
   "outputs": [
    {
     "name": "stdout",
     "output_type": "stream",
     "text": [
      "[1, 3, 5, 3]\n",
      "[3, 5, 3, 1]\n"
     ]
    }
   ],
   "source": [
    "p=[1,3,5,3]\n",
    "s=p.copy()\n",
    "s.reverse()\n",
    "print(p)\n",
    "print(s)"
   ]
  },
  {
   "cell_type": "code",
   "execution_count": 45,
   "id": "74ef673d",
   "metadata": {},
   "outputs": [
    {
     "name": "stdout",
     "output_type": "stream",
     "text": [
      "[1, 3, 5, 3, 7, 7]\n",
      "[3, 5, 3, 1]\n"
     ]
    }
   ],
   "source": [
    "p.append(7)\n",
    "print(p)\n",
    "print(s)"
   ]
  },
  {
   "cell_type": "code",
   "execution_count": 47,
   "id": "f82bf426",
   "metadata": {},
   "outputs": [
    {
     "name": "stdout",
     "output_type": "stream",
     "text": [
      "4\n",
      "[1, 2, 3, 4, 5]\n"
     ]
    }
   ],
   "source": [
    "s=[]\n",
    "for p in range(5):\n",
    "    s.append(p+1)\n",
    "print(p)\n",
    "print(s)\n"
   ]
  },
  {
   "cell_type": "code",
   "execution_count": 49,
   "id": "0a0f1073",
   "metadata": {},
   "outputs": [
    {
     "name": "stdout",
     "output_type": "stream",
     "text": [
      "[2, 4, 6, 8]\n"
     ]
    }
   ],
   "source": [
    "s=[x*2 for x in [1,2,3,4]]\n",
    "print(s)"
   ]
  },
  {
   "cell_type": "code",
   "execution_count": 54,
   "id": "1717744f",
   "metadata": {},
   "outputs": [
    {
     "name": "stdout",
     "output_type": "stream",
     "text": [
      "['1', '2', '3', 'piyush', 'aman', 'shivam', 'sid', 'sab', 'chand', '1000']\n",
      "['1', '1000', '2', '3', 'aman', 'chand', 'piyush', 'sab', 'shivam', 'sid']\n"
     ]
    }
   ],
   "source": [
    "list1=[\"1\",\"2\",\"3\",\"piyush\",\"aman\",\"shivam\",\"sid\",\"sab\",\"chand\",\"1000\"]\n",
    "list2=list1.copy()\n",
    "list2.sort()\n",
    "print(list1)\n",
    "print(list2)"
   ]
  },
  {
   "cell_type": "code",
   "execution_count": 55,
   "id": "7456aec4",
   "metadata": {},
   "outputs": [
    {
     "name": "stdout",
     "output_type": "stream",
     "text": [
      "['1', '2', '3', 'piyush', 'aman', 'shivam', 'sid', 'sab', 'chand', '1000']\n",
      "['1', '1000', '2', '3', 'aman', 'chand', 'piyush', 'sab', 'shivam', 'sid']\n"
     ]
    }
   ],
   "source": [
    "list1=[\"1\",\"2\",\"3\",\"piyush\",\"aman\",\"shivam\",\"sid\",\"sab\",\"chand\",\"1000\"]\n",
    "list2= sorted (list1)\n",
    "print(list1)\n",
    "print(list2)"
   ]
  },
  {
   "cell_type": "code",
   "execution_count": 57,
   "id": "d334d278",
   "metadata": {},
   "outputs": [
    {
     "name": "stdout",
     "output_type": "stream",
     "text": [
      "[5, 4, 3, 2, 1]\n"
     ]
    }
   ],
   "source": [
    "list1=[1,2,3,4,5]\n",
    "list2 = list1.copy()\n",
    "list2.reverse()\n",
    "print(list2)"
   ]
  },
  {
   "cell_type": "code",
   "execution_count": 4,
   "id": "96bee2d3",
   "metadata": {},
   "outputs": [
    {
     "name": "stdout",
     "output_type": "stream",
     "text": [
      "[1, 2, 3, 5, 5, 8, 9]\n",
      "[1, 9, 5, 3, 2, 8, 5]\n",
      "[1, 2, 3, 5, 5, 8, 9]\n",
      "[1, 9, 5, 3, 2, 8, 5]\n"
     ]
    }
   ],
   "source": [
    "# there is a diiference in sort and sorted \n",
    "# sort change the value of x \n",
    "# but sorted doesn't\n",
    "x=[1,9,5,3,2,8,5]\n",
    "print(sorted(x))\n",
    "print(x)\n",
    "b=x.copy()\n",
    "b.sort()\n",
    "print(b)\n",
    "print(x)"
   ]
  },
  {
   "cell_type": "code",
   "execution_count": 3,
   "id": "e35668df",
   "metadata": {},
   "outputs": [
    {
     "name": "stdout",
     "output_type": "stream",
     "text": [
      "[1, 3, 5, 5, 6, 9]\n",
      "[9, 6, 5, 5, 3, 1]\n"
     ]
    }
   ],
   "source": [
    "#  for printing in descending order\n",
    "x=[1,9,3,5,6,5]\n",
    "print(sorted(x))\n",
    "x.sort(reverse=True)\n",
    "print(x)"
   ]
  },
  {
   "cell_type": "code",
   "execution_count": 6,
   "id": "7701dfb5",
   "metadata": {},
   "outputs": [
    {
     "name": "stdout",
     "output_type": "stream",
     "text": [
      "['1', '1000', '2', '3', 'aman', 'chand', 'piyush', 'sab', 'shivam', 'sid']\n",
      "['sid', 'shivam', 'sab', 'piyush', 'chand', 'aman', '3', '2', '1000', '1']\n"
     ]
    }
   ],
   "source": [
    "list1=[\"1\",\"2\",\"3\",\"piyush\",\"aman\",\"shivam\",\"sid\",\"sab\",\"chand\",\"1000\"]\n",
    "list2= sorted (list1)\n",
    "print(list2)\n",
    "print(list2[::-1])"
   ]
  },
  {
   "cell_type": "code",
   "execution_count": 9,
   "id": "e632be01",
   "metadata": {},
   "outputs": [
    {
     "name": "stdout",
     "output_type": "stream",
     "text": [
      "[1, 2, 3, 45, 6, 2, 6, 9]\n",
      "[2, 6, 9]\n"
     ]
    }
   ],
   "source": [
    "# just for revision\n",
    "list2=[1,2,3,45,6]\n",
    "# list1=[2,6,9]\n",
    "# list2.extend(list1)\n",
    "list2.extend(list1)\n",
    "print(list2)\n",
    "print(list1)"
   ]
  },
  {
   "cell_type": "code",
   "execution_count": 32,
   "id": "df1657a9",
   "metadata": {},
   "outputs": [],
   "source": [
    "# simple stat\n",
    "# nums = [1, 2, 3, 4, 5, 6]\n",
    "# total_num = sum(nums)\n",
    "\n",
    "# print(total_num)\n"
   ]
  },
  {
   "cell_type": "code",
   "execution_count": 45,
   "id": "94ad8bd4",
   "metadata": {},
   "outputs": [
    {
     "name": "stdout",
     "output_type": "stream",
     "text": [
      "6\n"
     ]
    }
   ],
   "source": [
    "\n",
    "nums = [1, 2, 3, 4, 5, 6]\n",
    "# num_max = max(nums)\n",
    "\n",
    "print(max(nums))\n",
    "# print(sum(nums))\n",
    "\n"
   ]
  },
  {
   "cell_type": "code",
   "execution_count": 42,
   "id": "ffd7fd60",
   "metadata": {},
   "outputs": [],
   "source": [
    "# sum_num=sum(nums)\n",
    "# print(sum_num)"
   ]
  },
  {
   "cell_type": "code",
   "execution_count": 46,
   "id": "a6ad8198",
   "metadata": {},
   "outputs": [],
   "source": [
    "# nums = [1, 2, 3, 4, 5, 6]\n",
    "\n",
    "# # Assigning the maximum value to the variable num_max (commented out)\n",
    "# # num_max = max(nums)\n",
    "\n",
    "# # Printing the maximum value and the sum of the list directly\n",
    "# print(max(nums))\n",
    "# print(sum(nums))\n"
   ]
  },
  {
   "cell_type": "code",
   "execution_count": 50,
   "id": "6ce30754",
   "metadata": {},
   "outputs": [
    {
     "name": "stdout",
     "output_type": "stream",
     "text": [
      "['PIYUSH', 'LAKSHYA', 'SID', 'MORAL', 'AMRIT', 'SWYAM']\n",
      "['piyush', 'lakshya', 'sid', 'moral', 'amrit', 'swyam']\n"
     ]
    }
   ],
   "source": [
    "# converting in uppercase and lowercase\n",
    "name=['PiYush','LakSHya','SId','MOraL','AMRit','swyAM']\n",
    "list1=[]\n",
    "for nm in name:\n",
    "    list1.append(nm.upper())\n",
    "print(list1)\n",
    "lis=[]\n",
    "for nam in name:\n",
    "    lis.append(nam.lower())\n",
    "print(lis)\n",
    "\n",
    "    \n",
    "    "
   ]
  },
  {
   "cell_type": "code",
   "execution_count": 3,
   "id": "702706cd",
   "metadata": {},
   "outputs": [
    {
     "name": "stdout",
     "output_type": "stream",
     "text": [
      "1\n",
      "6\n",
      "18\n"
     ]
    }
   ],
   "source": [
    "list1=[1,4,5,2,6]\n",
    "print(min(list))\n",
    "print(max(list))\n",
    "print(sum(list))"
   ]
  },
  {
   "cell_type": "code",
   "execution_count": 11,
   "id": "12d2f806",
   "metadata": {},
   "outputs": [],
   "source": [
    "# TUPLES\n",
    "\n",
    "# tup1=(1,2,3)\n",
    "# li = list(tup1)\n",
    "# del(li[2])\n",
    "# print(li)\n",
    "# print(tup1)"
   ]
  },
  {
   "cell_type": "code",
   "execution_count": 25,
   "id": "8c328bfd",
   "metadata": {},
   "outputs": [
    {
     "ename": "TypeError",
     "evalue": "'list' object is not callable",
     "output_type": "error",
     "traceback": [
      "\u001b[1;31m---------------------------------------------------------------------------\u001b[0m",
      "\u001b[1;31mTypeError\u001b[0m                                 Traceback (most recent call last)",
      "Cell \u001b[1;32mIn[25], line 2\u001b[0m\n\u001b[0;32m      1\u001b[0m tup1 \u001b[38;5;241m=\u001b[39m (\u001b[38;5;241m1\u001b[39m, \u001b[38;5;241m2\u001b[39m, \u001b[38;5;241m3\u001b[39m)\n\u001b[1;32m----> 2\u001b[0m li \u001b[38;5;241m=\u001b[39m \u001b[38;5;28mlist\u001b[39m (tup1)\n\u001b[0;32m      3\u001b[0m li\n",
      "\u001b[1;31mTypeError\u001b[0m: 'list' object is not callable"
     ]
    }
   ],
   "source": [
    "tup1 = (1, 2, 3)\n",
    "li = list (tup1)\n",
    "prili\n",
    "# li\n",
    "# tup1\n",
    "# print(li)\n",
    "# print(tup1)\n"
   ]
  },
  {
   "cell_type": "code",
   "execution_count": 26,
   "id": "79d7a492",
   "metadata": {},
   "outputs": [
    {
     "data": {
      "text/plain": [
       "(1, 2, 3)"
      ]
     },
     "execution_count": 26,
     "metadata": {},
     "output_type": "execute_result"
    }
   ],
   "source": [
    "tup1"
   ]
  },
  {
   "cell_type": "code",
   "execution_count": 29,
   "id": "dd396b8c",
   "metadata": {},
   "outputs": [
    {
     "data": {
      "text/plain": [
       "(1, 2, 3, [4, 5, 6, 9], 7)"
      ]
     },
     "execution_count": 29,
     "metadata": {},
     "output_type": "execute_result"
    }
   ],
   "source": [
    "tup1=(1,2,3,[4,5,6],7)\n",
    "tup1[3].append(9)\n",
    "tup1"
   ]
  },
  {
   "cell_type": "code",
   "execution_count": 31,
   "id": "38cfd801",
   "metadata": {},
   "outputs": [
    {
     "data": {
      "text/plain": [
       "[1, 2, 3, 4, 5, 9]"
      ]
     },
     "execution_count": 31,
     "metadata": {},
     "output_type": "execute_result"
    }
   ],
   "source": [
    "# we cant use sort function to sort rather we use sorted\n",
    "l2=(1,5,3,9,2,4)\n",
    "sorted(l2)"
   ]
  },
  {
   "cell_type": "code",
   "execution_count": 35,
   "id": "621597f5",
   "metadata": {},
   "outputs": [
    {
     "name": "stdout",
     "output_type": "stream",
     "text": [
      "WELCOME TO HELLO WORLD\n",
      "WELCOME TO HELLO WORLD\n",
      " HELLO WORLD\n"
     ]
    }
   ],
   "source": [
    "# STRINGS\n",
    "\n",
    "a='HELLO'\n",
    "b=\"WORLD\"\n",
    "print('WELCOME TO',a,b)\n",
    "print('WELCOME TO %s %s' %(a,b))\n",
    "print('',a,b)"
   ]
  },
  {
   "cell_type": "code",
   "execution_count": 4,
   "id": "32a1d16a",
   "metadata": {},
   "outputs": [
    {
     "name": "stdout",
     "output_type": "stream",
     "text": [
      "Subscription of amazon prime is Rs.149/- per month\n"
     ]
    }
   ],
   "source": [
    "a= 'amazon'\n",
    "b='prime'\n",
    "c=149\n",
    "print('Subscription of %s %s is Rs.%d/- per month' %(a,b,c))"
   ]
  },
  {
   "cell_type": "code",
   "execution_count": 5,
   "id": "8585ae2f",
   "metadata": {},
   "outputs": [
    {
     "name": "stdout",
     "output_type": "stream",
     "text": [
      "1\n"
     ]
    }
   ],
   "source": [
    "print(a.find('m'))"
   ]
  },
  {
   "cell_type": "code",
   "execution_count": 9,
   "id": "df6f6260",
   "metadata": {},
   "outputs": [
    {
     "ename": "SyntaxError",
     "evalue": "invalid syntax (181683763.py, line 1)",
     "output_type": "error",
     "traceback": [
      "\u001b[1;36m  Cell \u001b[1;32mIn[9], line 1\u001b[1;36m\u001b[0m\n\u001b[1;33m    pip install gitpython\u001b[0m\n\u001b[1;37m        ^\u001b[0m\n\u001b[1;31mSyntaxError\u001b[0m\u001b[1;31m:\u001b[0m invalid syntax\n"
     ]
    }
   ],
   "source": [
    "pip install gitpython\n",
    "import git\n",
    "\n"
   ]
  },
  {
   "cell_type": "code",
   "execution_count": 10,
   "id": "77c04aa4",
   "metadata": {},
   "outputs": [
    {
     "ename": "NameError",
     "evalue": "name 'git' is not defined",
     "output_type": "error",
     "traceback": [
      "\u001b[1;31m---------------------------------------------------------------------------\u001b[0m",
      "\u001b[1;31mNameError\u001b[0m                                 Traceback (most recent call last)",
      "Cell \u001b[1;32mIn[10], line 1\u001b[0m\n\u001b[1;32m----> 1\u001b[0m repo \u001b[38;5;241m=\u001b[39m git\u001b[38;5;241m.\u001b[39mRepo\u001b[38;5;241m.\u001b[39minit(\u001b[38;5;124m'\u001b[39m\u001b[38;5;124mhttps://github.com/PIYUSH-NAYAK/PYTHON.git\u001b[39m\u001b[38;5;124m'\u001b[39m)\n",
      "\u001b[1;31mNameError\u001b[0m: name 'git' is not defined"
     ]
    }
   ],
   "source": [
    "repo = git.Repo.init('https://github.com/PIYUSH-NAYAK/PYTHON.git')\n"
   ]
  }
 ],
 "metadata": {
  "kernelspec": {
   "display_name": "Python 3 (ipykernel)",
   "language": "python",
   "name": "python3"
  },
  "language_info": {
   "codemirror_mode": {
    "name": "ipython",
    "version": 3
   },
   "file_extension": ".py",
   "mimetype": "text/x-python",
   "name": "python",
   "nbconvert_exporter": "python",
   "pygments_lexer": "ipython3",
   "version": "3.12.0"
  }
 },
 "nbformat": 4,
 "nbformat_minor": 5
}

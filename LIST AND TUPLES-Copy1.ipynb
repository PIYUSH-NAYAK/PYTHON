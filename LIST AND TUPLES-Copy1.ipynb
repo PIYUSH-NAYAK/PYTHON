{
 "cells": [
  {
   "cell_type": "code",
   "execution_count": null,
   "id": "9b2652ae",
   "metadata": {},
   "outputs": [],
   "source": [
    "l1 = [10,20,'piyush']\n",
    "l1[2]"
   ]
  },
  {
   "cell_type": "code",
   "execution_count": null,
   "id": "f33d33d3",
   "metadata": {
    "scrolled": true
   },
   "outputs": [],
   "source": [
    "l1[1]\n"
   ]
  },
  {
   "cell_type": "code",
   "execution_count": null,
   "id": "63b65f8f",
   "metadata": {},
   "outputs": [],
   "source": [
    "print(type(l1))\n",
    "l1[0]"
   ]
  },
  {
   "cell_type": "code",
   "execution_count": null,
   "id": "dbf6a033",
   "metadata": {},
   "outputs": [],
   "source": [
    "l1=[10,20,30,40,50]\n",
    "print(l1*5)\n"
   ]
  },
  {
   "cell_type": "code",
   "execution_count": null,
   "id": "d988337d",
   "metadata": {},
   "outputs": [],
   "source": [
    "l1[2]='piyush'"
   ]
  },
  {
   "cell_type": "code",
   "execution_count": null,
   "id": "2327cd08",
   "metadata": {},
   "outputs": [],
   "source": [
    "print(l1)"
   ]
  },
  {
   "cell_type": "code",
   "execution_count": null,
   "id": "5eecaf25",
   "metadata": {},
   "outputs": [],
   "source": [
    "l1.append('Nayak')\n",
    "print(l1)"
   ]
  },
  {
   "cell_type": "code",
   "execution_count": null,
   "id": "66c56d62",
   "metadata": {},
   "outputs": [],
   "source": [
    "# for inserting elements in list\n",
    "# .insert(index,value)\n",
    "l1.insert(3,'Rishu')\n",
    "print(l1)"
   ]
  },
  {
   "cell_type": "code",
   "execution_count": null,
   "id": "bcd634dc",
   "metadata": {},
   "outputs": [],
   "source": [
    "# adding tuple in a list \n",
    "l1.insert(2,(1,2,3,4))\n",
    "l1"
   ]
  },
  {
   "cell_type": "code",
   "execution_count": null,
   "id": "4955ec0b",
   "metadata": {},
   "outputs": [],
   "source": [
    "l1.insert(2,'HELLO')\n",
    "l1"
   ]
  },
  {
   "cell_type": "code",
   "execution_count": null,
   "id": "d60f3cec",
   "metadata": {},
   "outputs": [],
   "source": [
    "# Another inbuilt function in python 'extend'\n",
    "# as through append we can add only one value at the end\n",
    "# but through extend function we can add as many as we want at the end\n",
    "l1=[1,2,3]\n",
    "l1.append(4)\n",
    "print(l1)\n",
    "l1.extend([5,6,7])\n",
    "print(l1)\n"
   ]
  },
  {
   "cell_type": "code",
   "execution_count": null,
   "id": "9fca92a9",
   "metadata": {},
   "outputs": [],
   "source": [
    " # for deleting value we have \n",
    "#     Del\n",
    "#     Remove\n",
    "#     Pop\n"
   ]
  },
  {
   "cell_type": "code",
   "execution_count": null,
   "id": "1ed0c695",
   "metadata": {
    "scrolled": true
   },
   "outputs": [],
   "source": [
    " p1=[1,2,3,4]\n",
    " s1=[1,2,3,4]\n",
    " print(p1)\n",
    " print(s1)\n",
    "del(p1)\n",
    "print(s1)\n",
    "# print(p1)\n"
   ]
  },
  {
   "cell_type": "code",
   "execution_count": null,
   "id": "af888ceb",
   "metadata": {},
   "outputs": [],
   "source": [
    "s1.clear()\n",
    "print(s1)"
   ]
  },
  {
   "cell_type": "code",
   "execution_count": null,
   "id": "5eea6376",
   "metadata": {},
   "outputs": [],
   "source": [
    "l1=[1,2,3,4,5]\n",
    "del(l1[2])\n",
    "print(l1)\n",
    "del(l1[0:3])\n",
    "print(l1)"
   ]
  },
  {
   "cell_type": "code",
   "execution_count": null,
   "id": "d71ab3ab",
   "metadata": {},
   "outputs": [],
   "source": [
    "s1=[1,2,3,4,1]\n",
    "s1.remove(1)\n",
    "print(s1)"
   ]
  },
  {
   "cell_type": "code",
   "execution_count": null,
   "id": "8c510305",
   "metadata": {},
   "outputs": [],
   "source": [
    "sp=[1,2,3,4,1,2,3,4,5]\n",
    "while 1 in sp:\n",
    "    sp.remove(1)\n",
    "while 3 in sp:\n",
    "    sp.remove(3)\n",
    "print(sp)\n",
    "\n",
    "    \n",
    "    \n",
    "    \n",
    "    \n",
    "\n"
   ]
  },
  {
   "cell_type": "code",
   "execution_count": null,
   "id": "3b16f616",
   "metadata": {},
   "outputs": [],
   "source": [
    "# pop can be assigned to some var but del can't\n",
    "sp=[1,2,3,4,5]\n",
    "a=sp.pop(2)\n",
    "print(sp)\n",
    "print(a)"
   ]
  },
  {
   "cell_type": "code",
   "execution_count": null,
   "id": "0ffb87eb",
   "metadata": {},
   "outputs": [],
   "source": [
    "print(a)"
   ]
  },
  {
   "cell_type": "code",
   "execution_count": null,
   "id": "ca7c2c05",
   "metadata": {},
   "outputs": [],
   "source": [
    "# append\n",
    "# extend\n",
    "# insert\n",
    "# Del\n",
    "# clear\n",
    "# remove\n",
    "# pop"
   ]
  },
  {
   "cell_type": "code",
   "execution_count": null,
   "id": "2c0d1caf",
   "metadata": {},
   "outputs": [],
   "source": [
    "  dir(list\n",
    "     )"
   ]
  },
  {
   "cell_type": "code",
   "execution_count": null,
   "id": "c1e5aeed",
   "metadata": {},
   "outputs": [],
   "source": [
    "p=[1,2,3,4,5]\n",
    "p.reverse()\n",
    "print(p)"
   ]
  },
  {
   "cell_type": "code",
   "execution_count": null,
   "id": "9ce757f6",
   "metadata": {},
   "outputs": [],
   "source": [
    "p=[1,4,3,5,7,4]\n",
    "p.sort()\n",
    "print(p)"
   ]
  },
  {
   "cell_type": "code",
   "execution_count": null,
   "id": "a3642e7d",
   "metadata": {},
   "outputs": [],
   "source": [
    "p=[1,3,5,3]\n",
    "s=p.copy()\n",
    "s.reverse()\n",
    "print(p)\n",
    "print(s)"
   ]
  },
  {
   "cell_type": "code",
   "execution_count": null,
   "id": "74ef673d",
   "metadata": {},
   "outputs": [],
   "source": [
    "p.append(7)\n",
    "print(p)\n",
    "print(s)"
   ]
  },
  {
   "cell_type": "code",
   "execution_count": null,
   "id": "f82bf426",
   "metadata": {},
   "outputs": [],
   "source": [
    "s=[]\n",
    "for p in range(5):\n",
    "    s.append(p+1)\n",
    "print(p)\n",
    "print(s)\n"
   ]
  },
  {
   "cell_type": "code",
   "execution_count": null,
   "id": "0a0f1073",
   "metadata": {},
   "outputs": [],
   "source": [
    "s=[x*2 for x in [1,2,3,4]]\n",
    "print(s)"
   ]
  },
  {
   "cell_type": "code",
   "execution_count": null,
   "id": "1717744f",
   "metadata": {},
   "outputs": [],
   "source": [
    "list1=[\"1\",\"2\",\"3\",\"piyush\",\"aman\",\"shivam\",\"sid\",\"sab\",\"chand\",\"1000\"]\n",
    "list2=list1.copy()\n",
    "list2.sort()\n",
    "print(list1)\n",
    "print(list2)"
   ]
  },
  {
   "cell_type": "code",
   "execution_count": null,
   "id": "7456aec4",
   "metadata": {},
   "outputs": [],
   "source": [
    "list1=[\"1\",\"2\",\"3\",\"piyush\",\"aman\",\"shivam\",\"sid\",\"sab\",\"chand\",\"1000\"]\n",
    "list2= sorted (list1)\n",
    "print(list1)\n",
    "print(list2)"
   ]
  },
  {
   "cell_type": "code",
   "execution_count": null,
   "id": "d334d278",
   "metadata": {},
   "outputs": [],
   "source": [
    "list1=[1,2,3,4,5]\n",
    "list2 = list1.copy()\n",
    "list2.reverse()\n",
    "print(list2)"
   ]
  },
  {
   "cell_type": "code",
   "execution_count": null,
   "id": "96bee2d3",
   "metadata": {},
   "outputs": [],
   "source": [
    "# there is a diiference in sort and sorted \n",
    "# sort change the value of x \n",
    "# but sorted doesn't\n",
    "x=[1,9,5,3,2,8,5]\n",
    "print(sorted(x))\n",
    "print(x)\n",
    "b=x.copy()\n",
    "b.sort()\n",
    "print(b)\n",
    "print(x)"
   ]
  },
  {
   "cell_type": "code",
   "execution_count": null,
   "id": "e35668df",
   "metadata": {},
   "outputs": [],
   "source": [
    "#  for printing in descending order\n",
    "x=[1,9,3,5,6,5]\n",
    "print(sorted(x))\n",
    "x.sort(reverse=True)\n",
    "print(x)"
   ]
  },
  {
   "cell_type": "code",
   "execution_count": null,
   "id": "7701dfb5",
   "metadata": {},
   "outputs": [],
   "source": [
    "list1=[\"1\",\"2\",\"3\",\"piyush\",\"aman\",\"shivam\",\"sid\",\"sab\",\"chand\",\"1000\"]\n",
    "list2= sorted (list1)\n",
    "print(list2)\n",
    "print(list2[::-1])"
   ]
  },
  {
   "cell_type": "code",
   "execution_count": null,
   "id": "e632be01",
   "metadata": {},
   "outputs": [],
   "source": [
    "# just for revision\n",
    "list2=[1,2,3,45,6]\n",
    "# list1=[2,6,9]\n",
    "# list2.extend(list1)\n",
    "list2.extend(list1)\n",
    "print(list2)\n",
    "print(list1)"
   ]
  },
  {
   "cell_type": "code",
   "execution_count": null,
   "id": "df1657a9",
   "metadata": {},
   "outputs": [],
   "source": [
    "# simple stat\n",
    "# nums = [1, 2, 3, 4, 5, 6]\n",
    "# total_num = sum(nums)\n",
    "\n",
    "# print(total_num)\n"
   ]
  },
  {
   "cell_type": "code",
   "execution_count": null,
   "id": "94ad8bd4",
   "metadata": {},
   "outputs": [],
   "source": [
    "\n",
    "nums = [1, 2, 3, 4, 5, 6]\n",
    "# num_max = max(nums)\n",
    "\n",
    "print(max(nums))\n",
    "# print(sum(nums))\n",
    "\n"
   ]
  },
  {
   "cell_type": "code",
   "execution_count": null,
   "id": "ffd7fd60",
   "metadata": {},
   "outputs": [],
   "source": [
    "# sum_num=sum(nums)\n",
    "# print(sum_num)"
   ]
  },
  {
   "cell_type": "code",
   "execution_count": null,
   "id": "a6ad8198",
   "metadata": {},
   "outputs": [],
   "source": [
    "# nums = [1, 2, 3, 4, 5, 6]\n",
    "\n",
    "# # Assigning the maximum value to the variable num_max (commented out)\n",
    "# # num_max = max(nums)\n",
    "\n",
    "# # Printing the maximum value and the sum of the list directly\n",
    "# print(max(nums))\n",
    "# print(sum(nums))\n"
   ]
  },
  {
   "cell_type": "code",
   "execution_count": null,
   "id": "6ce30754",
   "metadata": {},
   "outputs": [],
   "source": [
    "# converting in uppercase and lowercase\n",
    "name=['PiYush','LakSHya','SId','MOraL','AMRit','swyAM']\n",
    "list1=[]\n",
    "for nm in name:\n",
    "    list1.append(nm.upper())\n",
    "print(list1)\n",
    "lis=[]\n",
    "for nam in name:\n",
    "    lis.append(nam.lower())\n",
    "print(lis)\n",
    "\n",
    "    \n",
    "    "
   ]
  },
  {
   "cell_type": "code",
   "execution_count": null,
   "id": "702706cd",
   "metadata": {},
   "outputs": [],
   "source": [
    "list1=[1,4,5,2,6]\n",
    "print(min(list))\n",
    "print(max(list))\n",
    "print(sum(list))"
   ]
  },
  {
   "cell_type": "code",
   "execution_count": null,
   "id": "12d2f806",
   "metadata": {},
   "outputs": [],
   "source": [
    "# TUPLES\n",
    "\n",
    "# tup1=(1,2,3)\n",
    "# li = list(tup1)\n",
    "# del(li[2])\n",
    "# print(li)\n",
    "# print(tup1)"
   ]
  },
  {
   "cell_type": "code",
   "execution_count": null,
   "id": "8c328bfd",
   "metadata": {},
   "outputs": [],
   "source": [
    "# tup1 = (1, 2, 3)\n",
    "# li = list (tup1)\n",
    "# prili\n",
    "# li\n",
    "# tup1\n",
    "# print(li)\n",
    "# print(tup1)\n"
   ]
  },
  {
   "cell_type": "code",
   "execution_count": null,
   "id": "79d7a492",
   "metadata": {},
   "outputs": [],
   "source": [
    "tup1"
   ]
  },
  {
   "cell_type": "code",
   "execution_count": null,
   "id": "dd396b8c",
   "metadata": {},
   "outputs": [],
   "source": [
    "tup1=(1,2,3,[4,5,6],7)\n",
    "tup1[3].append(9)\n",
    "tup1"
   ]
  },
  {
   "cell_type": "code",
   "execution_count": null,
   "id": "38cfd801",
   "metadata": {},
   "outputs": [],
   "source": [
    "# we cant use sort function to sort rather we use sorted\n",
    "l2=(1,5,3,9,2,4)\n",
    "sorted(l2)"
   ]
  },
  {
   "cell_type": "code",
   "execution_count": null,
   "id": "621597f5",
   "metadata": {},
   "outputs": [],
   "source": [
    "# STRINGS\n",
    "\n",
    "a='HELLO'\n",
    "b=\"WORLD\"\n",
    "print('WELCOME TO',a,b)\n",
    "print('WELCOME TO %s %s' %(a,b))\n",
    "print('',a,b)"
   ]
  },
  {
   "cell_type": "code",
   "execution_count": null,
   "id": "32a1d16a",
   "metadata": {},
   "outputs": [],
   "source": [
    "a= 'amazon'\n",
    "b='prime'\n",
    "c=149\n",
    "print('Subscription of %s %s is Rs.%d/- per month' %(a,b,c))"
   ]
  },
  {
   "cell_type": "code",
   "execution_count": null,
   "id": "8585ae2f",
   "metadata": {},
   "outputs": [],
   "source": [
    "print(a.find('m'))"
   ]
  },
  {
   "cell_type": "code",
   "execution_count": null,
   "id": "df6f6260",
   "metadata": {},
   "outputs": [],
   "source": []
  },
  {
   "cell_type": "code",
   "execution_count": null,
   "id": "77c04aa4",
   "metadata": {},
   "outputs": [],
   "source": []
  }
 ],
 "metadata": {
  "kernelspec": {
   "display_name": "Python 3 (ipykernel)",
   "language": "python",
   "name": "python3"
  },
  "language_info": {
   "codemirror_mode": {
    "name": "ipython",
    "version": 3
   },
   "file_extension": ".py",
   "mimetype": "text/x-python",
   "name": "python",
   "nbconvert_exporter": "python",
   "pygments_lexer": "ipython3",
   "version": "3.12.0"
  }
 },
 "nbformat": 4,
 "nbformat_minor": 5
}

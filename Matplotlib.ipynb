{
 "cells": [
  {
   "cell_type": "code",
   "execution_count": null,
   "id": "cc09d421-6e44-4dfd-85e1-4da705b12a5c",
   "metadata": {},
   "outputs": [],
   "source": [
    "try:\n",
    "    import matplotlib\n",
    "    print(\"Matplotlib is installed.\")\n",
    "except ImportError:\n",
    "    print(\"Matplotlib is not installed.\")\n"
   ]
  },
  {
   "cell_type": "code",
   "execution_count": null,
   "id": "d950e1c1-dc76-4bab-a3ae-c4d14283c607",
   "metadata": {},
   "outputs": [],
   "source": [
    "# import pandas as pd\n",
    "# import numpy as np\n",
    "# import matplotlib.pyplot as plt"
   ]
  },
  {
   "cell_type": "code",
   "execution_count": null,
   "id": "7fd74a60-f0b3-4bd8-9e7e-774d646f5ee7",
   "metadata": {},
   "outputs": [],
   "source": [
    " plt.plot ([4,19,10,34,12,25,2])"
   ]
  },
  {
   "cell_type": "code",
   "execution_count": null,
   "id": "cf5e8544-2af7-41fd-89b2-047c0a1f7376",
   "metadata": {},
   "outputs": [],
   "source": [
    "plt.plot ([2,8,8,2,10,12,2,16,2,12,10,2,8,8,2])"
   ]
  },
  {
   "cell_type": "code",
   "execution_count": null,
   "id": "4a1805d0-d9f9-47a4-bf24-58ae825575f2",
   "metadata": {},
   "outputs": [],
   "source": [
    "# plt.plot ([x],[y])\n",
    "plt.plot ([1,2,3,4],[10,7,13,4])"
   ]
  },
  {
   "cell_type": "code",
   "execution_count": null,
   "id": "455b1282-1409-4287-819d-107deb8f1aeb",
   "metadata": {},
   "outputs": [],
   "source": [
    "from matplotlib.pylab import rcParams\n",
    "rcParams['figure.figsize'] = 4,1\n",
    "plt.plot ([1,2,3,4],[10,7,13,4])\n",
    "plt.show()"
   ]
  },
  {
   "cell_type": "code",
   "execution_count": null,
   "id": "9e5cfe3e-ec57-40f7-a503-db315254ffc5",
   "metadata": {},
   "outputs": [],
   "source": [
    "plt.show()"
   ]
  },
  {
   "cell_type": "code",
   "execution_count": null,
   "id": "21277b26-297d-4514-a30e-745aeda2532b",
   "metadata": {},
   "outputs": [],
   "source": [
    "# another way to plot\n",
    "from matplotlib.pylab import rcParams \n",
    "rcParams['figure.figsize'] = 8,3\n",
    "a=[1,2,3,4,5,6,7]\n",
    "b=[10,3,46,3,2,15,6]\n",
    "plt.plot(a,b)\n",
    "# plt.show()"
   ]
  },
  {
   "cell_type": "code",
   "execution_count": null,
   "id": "bff2ae21-dbe4-463d-9c52-d1b84cc9e8f5",
   "metadata": {},
   "outputs": [],
   "source": [
    "a=['Jan','feb','Mar','Apr','May','Jun']\n",
    "b= [1200,400,3400,2300,1200,4500]\n",
    "plt.title = 'Copy Sale'\n",
    "plt.xlabel = 'Months'\n",
    "plt.ylabel = 'Sales'\n",
    "plt.plot(a,b)\n"
   ]
  },
  {
   "cell_type": "code",
   "execution_count": null,
   "id": "19785ba8-7a2f-4fc9-a5ae-9a8e0fe8f9fa",
   "metadata": {},
   "outputs": [],
   "source": [
    "a=np.arange(1,15,2)\n",
    "plt.plot(a,[b**3 for b in a])\n",
    "plt.show()"
   ]
  },
  {
   "cell_type": "code",
   "execution_count": null,
   "id": "b1b9e25b-16f7-4cab-a1ea-8e0305555cf0",
   "metadata": {},
   "outputs": [],
   "source": [
    "# for displaying many graphs in one graph\n",
    "a=[1,2,3,4,5]\n",
    "plt.plot(a,[b**1.2 for b in a])\n",
    "plt.plot(a,[c**1.4 for c in a])\n",
    "plt.plot(a,[d**1.6 for d in a])\n",
    "plt.plot(a,[e**1.8 for e in a])\n",
    "plt.plot(a,[f**2 for f in a])\n",
    "plt.show()"
   ]
  },
  {
   "cell_type": "code",
   "execution_count": null,
   "id": "85663e0f-d292-498c-90d5-4251b50948b8",
   "metadata": {},
   "outputs": [],
   "source": [
    "# plt.axis([1,10,0,20])\n",
    "# it is used to make graph look good\n",
    "a=[1,2,3,4,5,6,7,8,9,10]\n",
    "plt.plot(a,[b**2 for b in a])\n",
    "plt.plot(a,[b**3 for b in a])\n",
    "plt.plot(a,[b**4 for b in a])\n",
    "plt.show()"
   ]
  },
  {
   "cell_type": "code",
   "execution_count": null,
   "id": "71effbf6-a6a8-4466-b223-83ad1ff8d078",
   "metadata": {},
   "outputs": [],
   "source": [
    "a=[1,2,3,4,5,6,7,8,9,10]\n",
    "plt.plot(a,[b**2 for b in a])\n",
    "plt.plot(a,[b**3 for b in a])\n",
    "plt.plot(a,[b**4 for b in a])\n",
    "plt.axis([0,8,0,500])\n",
    "plt.show()"
   ]
  },
  {
   "cell_type": "code",
   "execution_count": null,
   "id": "810e86f7-cc8d-45f3-b0a3-0f30af2afcb4",
   "metadata": {},
   "outputs": [],
   "source": [
    "#  in place of plt.axis we can use \n",
    "# plt.xlim and plt.ylim([ , ]) "
   ]
  },
  {
   "cell_type": "code",
   "execution_count": null,
   "id": "78e260c7-5c1b-4693-97c7-e83644313151",
   "metadata": {},
   "outputs": [],
   "source": [
    "y=[12,8,19,4]\n",
    "x=[2,4,6,8]\n",
    "x1=[2,4,6,8]\n",
    "y1=[4,13,2,19]\n",
    "plt.plot(x,y)\n",
    "plt.plot(x1,y1)\n",
    "plt.show()\n"
   ]
  },
  {
   "cell_type": "code",
   "execution_count": null,
   "id": "8525058f-6885-4899-9dea-2d96ae58531d",
   "metadata": {},
   "outputs": [],
   "source": [
    "#  plt.plot(x,y,'color',label= 'abc', linewidth= 10)\n",
    "# colors\n",
    "# 'b' - blue\n",
    "# 'g' - green\n",
    "# 'r' - red\n",
    "# 'c' - cyan\n",
    "# 'm' - magenta\n",
    "# 'y' - yellow\n",
    "# 'k' - black\n",
    "# 'w' - white\n"
   ]
  },
  {
   "cell_type": "code",
   "execution_count": null,
   "id": "ea64b3ae-43df-4bc5-a16e-cb8f33f2ffec",
   "metadata": {},
   "outputs": [],
   "source": [
    "y=[12,8,19,4]\n",
    "x=[2,4,6,8]\n",
    "x1=[2,4,6,8]\n",
    "y1=[4,13,2,19]\n",
    "plt.plot(x,y,'b',label='abc',linewidth = 2)\n",
    "plt.plot(x1,y1,'c',label= 'xyz',linewidth=5)\n",
    "plt.legend()\n",
    "plt.grid(True,color = 'r')\n",
    "plt.show()\n"
   ]
  },
  {
   "cell_type": "code",
   "execution_count": null,
   "id": "8ef42988-e92e-4a7a-8ee6-602e7fda5e29",
   "metadata": {},
   "outputs": [],
   "source": [
    "x = ['10','12','14','16','18']\n",
    "y = [15,10,12,18,20]\n",
    "plt.plot  (x,y)\n",
    "\n",
    "#plt.text (x - axis position , y axis position ie hight  , value/text  to be displayed , \n",
    "# ha = Horizontal alignment va = vertical alignment)\n",
    "for i in range(len(x)):\n",
    "    # print ('i=',i, 'and  y[i] =',y[i])\n",
    "    plt.text(i,y[i],y[i],ha ='center', va= 'bottom')\n"
   ]
  },
  {
   "cell_type": "code",
   "execution_count": null,
   "id": "ac1d6052-196d-4ad3-93a5-8fe8dfb026c9",
   "metadata": {},
   "outputs": [],
   "source": [
    "# for ha we have left,center ,right\n",
    "# for va we have top,bottom,center ,baseline\n"
   ]
  },
  {
   "cell_type": "code",
   "execution_count": null,
   "id": "95473ae7-7a76-4b07-945b-0fbab82a23eb",
   "metadata": {},
   "outputs": [],
   "source": [
    "x = ['10','12','14','16','18']\n",
    "y = [15,10,12,18,20]\n",
    "plt.plot  (x,y)\n",
    "for i in range(len(x)):\n",
    "    \n",
    "    \n",
    "    plt.text(i,y[i],y[i],ha='center',va='bottom')\n",
    "\n",
    "plt.grid(True,color='m')\n"
   ]
  },
  {
   "cell_type": "code",
   "execution_count": null,
   "id": "46710cde-5c46-4fc8-958a-4dff45158de2",
   "metadata": {},
   "outputs": [],
   "source": [
    "x = ['10','12','14','16','18']\n",
    "y = [15,10,12,18,20]\n",
    "plt.plot  (x,y)\n",
    "for i in range(len(x)):\n",
    "    \n",
    "    \n",
    "    plt.text(x[i],y[i],'hii',ha='left',va='bottom')\n",
    "\n",
    "plt.grid(True,color='m')\n"
   ]
  },
  {
   "cell_type": "code",
   "execution_count": null,
   "id": "c8956878-1ecc-4be6-9b78-4a82d59d2cbc",
   "metadata": {},
   "outputs": [],
   "source": [
    "# plt.text(x-axis,y-axis,'value to be shown',ha=(left,right,center),va=(top,center,bottom,baseline))"
   ]
  },
  {
   "cell_type": "code",
   "execution_count": null,
   "id": "db3866e8-27af-4641-b38e-808ba5ad3677",
   "metadata": {},
   "outputs": [],
   "source": []
  },
  {
   "cell_type": "code",
   "execution_count": null,
   "id": "4628a48f-a034-4ea9-9b2b-28ca903aef17",
   "metadata": {},
   "outputs": [],
   "source": []
  },
  {
   "cell_type": "code",
   "execution_count": null,
   "id": "ed50d359-7ae4-4699-bd14-3ed7ce5b271e",
   "metadata": {},
   "outputs": [],
   "source": []
  },
  {
   "cell_type": "code",
   "execution_count": null,
   "id": "1862b153-6b44-4b70-9198-4580f1b25add",
   "metadata": {},
   "outputs": [],
   "source": []
  },
  {
   "cell_type": "code",
   "execution_count": null,
   "id": "69f39454-d9a1-4a7a-adf2-de5e14c0820a",
   "metadata": {},
   "outputs": [],
   "source": []
  },
  {
   "cell_type": "code",
   "execution_count": null,
   "id": "a538315d-0007-4fa7-ae11-50be93c61eeb",
   "metadata": {},
   "outputs": [],
   "source": []
  },
  {
   "cell_type": "code",
   "execution_count": null,
   "id": "cb4d27e9-f48a-4b34-9810-b285c46ff57e",
   "metadata": {},
   "outputs": [],
   "source": []
  },
  {
   "cell_type": "code",
   "execution_count": null,
   "id": "536d4592-d305-4133-bf1e-33b15b6bb663",
   "metadata": {},
   "outputs": [],
   "source": []
  },
  {
   "cell_type": "code",
   "execution_count": null,
   "id": "8482e4ba-a6f1-400b-aedf-9d9022a86f7f",
   "metadata": {},
   "outputs": [],
   "source": []
  },
  {
   "cell_type": "code",
   "execution_count": null,
   "id": "ddab3e39-bffe-4fce-a0bf-bbd0fc957045",
   "metadata": {},
   "outputs": [],
   "source": []
  },
  {
   "cell_type": "code",
   "execution_count": null,
   "id": "8e42a517-b965-4d77-8584-8a943f96ea79",
   "metadata": {},
   "outputs": [],
   "source": []
  },
  {
   "cell_type": "code",
   "execution_count": null,
   "id": "d3dff233-2fdb-483b-9fcf-d2652f0751d3",
   "metadata": {},
   "outputs": [],
   "source": []
  },
  {
   "cell_type": "code",
   "execution_count": null,
   "id": "8dea6392-f0d4-4157-9968-611e30f66c3c",
   "metadata": {},
   "outputs": [],
   "source": []
  },
  {
   "cell_type": "code",
   "execution_count": null,
   "id": "d995fdf8-f4ef-4ab0-8bd3-553ee03bd470",
   "metadata": {},
   "outputs": [],
   "source": []
  },
  {
   "cell_type": "code",
   "execution_count": null,
   "id": "44b29476-48b4-4ebc-bd1c-d2c036251a9e",
   "metadata": {},
   "outputs": [],
   "source": []
  },
  {
   "cell_type": "code",
   "execution_count": null,
   "id": "3d6e90ea-a293-46bc-b3b2-66b7ba23701d",
   "metadata": {},
   "outputs": [],
   "source": []
  },
  {
   "cell_type": "code",
   "execution_count": null,
   "id": "4329d649-8a5e-4c09-955b-64bf6e9232ec",
   "metadata": {},
   "outputs": [],
   "source": []
  },
  {
   "cell_type": "code",
   "execution_count": null,
   "id": "33289235-12ef-495e-9882-9de0dddd1526",
   "metadata": {},
   "outputs": [],
   "source": []
  },
  {
   "cell_type": "code",
   "execution_count": null,
   "id": "d927c4df-df2f-4ffe-9aab-0f2d6b3ceb41",
   "metadata": {},
   "outputs": [],
   "source": []
  },
  {
   "cell_type": "code",
   "execution_count": null,
   "id": "29597bb4-bd7e-44e2-8023-d591fcadcba6",
   "metadata": {},
   "outputs": [],
   "source": []
  },
  {
   "cell_type": "code",
   "execution_count": null,
   "id": "239c32cb-2341-4bf8-8dd6-3cf7439f4e95",
   "metadata": {},
   "outputs": [],
   "source": []
  },
  {
   "cell_type": "code",
   "execution_count": null,
   "id": "dac0c0cb-d6a1-4e09-a1fe-1716ae845810",
   "metadata": {},
   "outputs": [],
   "source": []
  },
  {
   "cell_type": "code",
   "execution_count": null,
   "id": "cef00e7b-1cab-4783-b8fb-eacb1e82e335",
   "metadata": {},
   "outputs": [],
   "source": []
  }
 ],
 "metadata": {
  "kernelspec": {
   "display_name": "Python 3 (ipykernel)",
   "language": "python",
   "name": "python3"
  },
  "language_info": {
   "codemirror_mode": {
    "name": "ipython",
    "version": 3
   },
   "file_extension": ".py",
   "mimetype": "text/x-python",
   "name": "python",
   "nbconvert_exporter": "python",
   "pygments_lexer": "ipython3",
   "version": "3.12.0"
  }
 },
 "nbformat": 4,
 "nbformat_minor": 5
}

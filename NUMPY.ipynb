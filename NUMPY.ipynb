{
 "cells": [
  {
   "cell_type": "code",
   "execution_count": 1,
   "id": "c18f1880-4cf7-43a1-a4d3-0a92bea3a7cd",
   "metadata": {},
   "outputs": [],
   "source": [
    "# Numpy - Array\n",
    "# Pandas - Data Frame\n",
    "# Matplotlib - Graph"
   ]
  },
  {
   "cell_type": "code",
   "execution_count": 9,
   "id": "181e8bd6-1f41-4a17-926b-89f2726f5c35",
   "metadata": {},
   "outputs": [
    {
     "data": {
      "text/plain": [
       "array([10, 20, 30])"
      ]
     },
     "execution_count": 9,
     "metadata": {},
     "output_type": "execute_result"
    }
   ],
   "source": [
    "import numpy as np\n",
    "np.array([10,20,30])\n",
    "# print(array)"
   ]
  },
  {
   "cell_type": "code",
   "execution_count": 1,
   "id": "54376479-48ae-4317-95e1-40e95cc0b23c",
   "metadata": {},
   "outputs": [
    {
     "name": "stdout",
     "output_type": "stream",
     "text": [
      "NumPy is installed.\n"
     ]
    }
   ],
   "source": [
    "try:\n",
    "    import numpy\n",
    "    print(\"NumPy is installed.\")\n",
    "except ImportError:\n",
    "    print(\"NumPy is not installed.\")\n"
   ]
  },
  {
   "cell_type": "code",
   "execution_count": 245,
   "id": "4ba223a4-d78a-4210-8968-0c5b9ab490bd",
   "metadata": {},
   "outputs": [
    {
     "name": "stdout",
     "output_type": "stream",
     "text": [
      "[[10 20 30]\n",
      " [40 50 60]\n",
      " [70 80 90]]\n",
      "30\n",
      "60\n"
     ]
    }
   ],
   "source": [
    "import numpy as pn\n",
    "arr=pn.array([[10,20,30],[40,50,60],[70,80,90]])\n",
    "print(arr)\n",
    "\n",
    "print(arr[0,2])\n",
    "print(arr[1,2])\n",
    "#not working\n",
    "# arr.append(30)\n",
    "# print(arr)"
   ]
  },
  {
   "cell_type": "code",
   "execution_count": 249,
   "id": "04dbbd1e-b3b0-448f-9a42-f69e4988a3ea",
   "metadata": {},
   "outputs": [
    {
     "name": "stdout",
     "output_type": "stream",
     "text": [
      "[ 1.  2. nan]\n"
     ]
    }
   ],
   "source": [
    "# if no data is available we can fill it with nan\n",
    "arr=pn.array([1,2,np.nan])\n",
    "print(arr)"
   ]
  },
  {
   "cell_type": "code",
   "execution_count": 6,
   "id": "4fa0025b-56ca-4dfc-843e-92c79169adde",
   "metadata": {},
   "outputs": [
    {
     "data": {
      "text/plain": [
       "array([30, 50])"
      ]
     },
     "execution_count": 6,
     "metadata": {},
     "output_type": "execute_result"
    }
   ],
   "source": [
    "import numpy as np\n",
    "a=np.array([10,20,30,50,40] )\n",
    "a[2:4]"
   ]
  },
  {
   "cell_type": "code",
   "execution_count": 7,
   "id": "0fbde2f9-7ca0-403e-b324-2533e8e6c10d",
   "metadata": {},
   "outputs": [
    {
     "name": "stdout",
     "output_type": "stream",
     "text": [
      "[10 20 30 50 40]\n",
      "[ 20 696  50  40]\n",
      "[ 10  20 696  50  40]\n"
     ]
    }
   ],
   "source": [
    "print(a)\n",
    "b=a[1:5]\n",
    "b[1]= 696\n",
    "print(b)\n",
    "print(a)"
   ]
  },
  {
   "cell_type": "code",
   "execution_count": 10,
   "id": "a9204671-7d96-4928-9e75-7b8bdd736fa9",
   "metadata": {},
   "outputs": [
    {
     "name": "stdout",
     "output_type": "stream",
     "text": [
      "[0 1 2 3 4]\n",
      "[0 1 2 3 4 5 6 7 8 9]\n",
      "[ 5 22 39 56 73 90]\n"
     ]
    }
   ],
   "source": [
    "# in numpy range is written as arange\n",
    "a=np.arange(5)\n",
    "b=np.arange(0,10)\n",
    "c=np.arange(5,100,17)\n",
    "print(a)\n",
    "print(b)\n",
    "print(c)"
   ]
  },
  {
   "cell_type": "code",
   "execution_count": 27,
   "id": "1713a5d2-42af-4143-be4b-c06ec90aa3f0",
   "metadata": {},
   "outputs": [
    {
     "name": "stdout",
     "output_type": "stream",
     "text": [
      "[0 1 2 3 4 5 6 7 8]\n",
      "[[0 1 2]\n",
      " [3 4 5]\n",
      " [6 7 8]]\n"
     ]
    }
   ],
   "source": [
    "a=np.arange(9)\n",
    "print(a)\n",
    "b=a.reshape (3,3)\n",
    "print(b)"
   ]
  },
  {
   "cell_type": "code",
   "execution_count": 34,
   "id": "30cd37ef-e1f7-4f8e-8a8c-5767160d81a7",
   "metadata": {},
   "outputs": [
    {
     "name": "stdout",
     "output_type": "stream",
     "text": [
      "[0 1 2 3 4 5 6 7 8]\n",
      "[[5. 5. 5. 5. 5. 5. 5. 5. 5.]\n",
      " [5. 5. 5. 5. 5. 5. 5. 5. 5.]\n",
      " [5. 5. 5. 5. 5. 5. 5. 5. 5.]\n",
      " [5. 5. 5. 5. 5. 5. 5. 5. 5.]\n",
      " [5. 5. 5. 5. 5. 5. 5. 5. 5.]\n",
      " [5. 5. 5. 5. 5. 5. 5. 5. 5.]]\n"
     ]
    }
   ],
   "source": [
    "x=np.arange(9)\n",
    "print(x)\n",
    "# y=x.reshape(3,3)\n",
    "y=np.ones((3,3))\n",
    "y=np.ones((6,9)) * 5\n",
    "print(y)"
   ]
  },
  {
   "cell_type": "code",
   "execution_count": 35,
   "id": "56f3499f-6d9a-4455-8f68-8c6545325c98",
   "metadata": {},
   "outputs": [
    {
     "name": "stdout",
     "output_type": "stream",
     "text": [
      "[[ 0  6 12 18 24]\n",
      " [ 1  7 13 19 25]\n",
      " [ 2  8 14 20 26]\n",
      " [ 3  9 15 21 27]\n",
      " [ 4 10 16 22 28]\n",
      " [ 5 11 17 23 29]]\n"
     ]
    }
   ],
   "source": [
    "# 'F' means column major order\n",
    "mat1=np.arange(30)\n",
    "mat2=np.reshape(mat1,(6,5),'F')\n",
    "print(mat2)"
   ]
  },
  {
   "cell_type": "code",
   "execution_count": 39,
   "id": "a6da1100-612e-4001-8b0d-5780723b6d50",
   "metadata": {},
   "outputs": [
    {
     "name": "stdout",
     "output_type": "stream",
     "text": [
      "[[ 0  1  2  3  4  5  6  7  8  9]\n",
      " [10 11 12 13 14 15 16 17 18 19]\n",
      " [20 21 22 23 24 25 26 27 28 29]]\n"
     ]
    }
   ],
   "source": [
    "# 'C' means row major order\n",
    "mat1=np.arange(30)\n",
    "mat2=np.reshape(mat1,(3,10),'C')\n",
    "print(mat2)"
   ]
  },
  {
   "cell_type": "code",
   "execution_count": 44,
   "id": "2264ee00-2254-4877-b08a-8f935cf504ff",
   "metadata": {},
   "outputs": [
    {
     "name": "stdout",
     "output_type": "stream",
     "text": [
      "[[ 0  1  2  3  4  5  6  7  8  9]\n",
      " [10 11 12 13 14 15 16 17 18 19]\n",
      " [20 21 22 23 24 25 26 27 28 29]]\n",
      "[[ 0 10 20]\n",
      " [ 1 11 21]\n",
      " [ 2 12 22]\n",
      " [ 3 13 23]\n",
      " [ 4 14 24]\n",
      " [ 5 15 25]\n",
      " [ 6 16 26]\n",
      " [ 7 17 27]\n",
      " [ 8 18 28]\n",
      " [ 9 19 29]]\n"
     ]
    }
   ],
   "source": [
    "#  transverse in matrix \n",
    "print(mat2)\n",
    "print(mat2.T)"
   ]
  },
  {
   "cell_type": "code",
   "execution_count": 46,
   "id": "66b62c1b-2094-452f-9b9c-dff4c6fdecf5",
   "metadata": {},
   "outputs": [
    {
     "name": "stdout",
     "output_type": "stream",
     "text": [
      "[[0 1 2]\n",
      " [3 4 5]\n",
      " [6 7 8]]\n"
     ]
    }
   ],
   "source": [
    "import numpy as np\n",
    "a=np.arange(9)\n",
    "b=a.reshape(3,3)\n",
    "print(b)"
   ]
  },
  {
   "cell_type": "code",
   "execution_count": 48,
   "id": "52e6654c-46ef-4f0d-901d-b3c5beb17769",
   "metadata": {},
   "outputs": [
    {
     "name": "stdout",
     "output_type": "stream",
     "text": [
      "[[ 8  9 10]\n",
      " [11 12 13]\n",
      " [14 15 16]]\n"
     ]
    }
   ],
   "source": [
    "c=np.arange(8,17)\n",
    "d=c.reshape(3,3)\n",
    "print(d)"
   ]
  },
  {
   "cell_type": "code",
   "execution_count": 64,
   "id": "fecb1ee1-0de4-44ae-92dd-f77cb90cd1e8",
   "metadata": {},
   "outputs": [
    {
     "name": "stdout",
     "output_type": "stream",
     "text": [
      "[[ 8 10 12]\n",
      " [14 16 18]\n",
      " [20 22 24]]\n",
      "[[-8 -8 -8]\n",
      " [-8 -8 -8]\n",
      " [-8 -8 -8]]\n",
      "[[0 0 0]\n",
      " [0 0 0]\n",
      " [0 0 0]]\n",
      "[[  0   9  20]\n",
      " [ 33  48  65]\n",
      " [ 84 105 128]]\n"
     ]
    }
   ],
   "source": [
    "print(b+d)\n",
    "print(b-d)\n",
    "print((b-d) + 8)\n",
    "print(b*d)\n",
    "# print((b+d).T)\n",
    "# print(e)\n",
    "# print(e.T)"
   ]
  },
  {
   "cell_type": "code",
   "execution_count": 66,
   "id": "921db28f-3fd3-45e6-af19-f7f11ecd8e3c",
   "metadata": {},
   "outputs": [
    {
     "name": "stdout",
     "output_type": "stream",
     "text": [
      "[[ 39  42  45]\n",
      " [138 150 162]\n",
      " [237 258 279]]\n"
     ]
    }
   ],
   "source": [
    "# for actual multiplication of matrix we'll use '@'\n",
    "print(b@d)"
   ]
  },
  {
   "cell_type": "code",
   "execution_count": 68,
   "id": "3fa52f09-1442-4c34-8581-225c1868dfc5",
   "metadata": {},
   "outputs": [
    {
     "data": {
      "text/plain": [
       "array([[ 0,  1,  2,  3],\n",
       "       [ 4,  5,  6,  7],\n",
       "       [ 8,  9, 10, 11]])"
      ]
     },
     "execution_count": 68,
     "metadata": {},
     "output_type": "execute_result"
    }
   ],
   "source": [
    "a=np.arange(12)\n",
    "b=a.reshape(3,4)\n",
    "b"
   ]
  },
  {
   "cell_type": "code",
   "execution_count": 70,
   "id": "1edd28f2-2e71-4852-8958-ca499dddb40a",
   "metadata": {},
   "outputs": [
    {
     "data": {
      "text/plain": [
       "array([ 0,  1,  2,  3,  4,  5,  6,  7,  8,  9, 10, 11])"
      ]
     },
     "execution_count": 70,
     "metadata": {},
     "output_type": "execute_result"
    }
   ],
   "source": [
    "#  ravel is used to flatten the array\n",
    "b.ravel()"
   ]
  },
  {
   "cell_type": "code",
   "execution_count": 73,
   "id": "dae67379-f30c-418f-bf74-2358d9fe41d8",
   "metadata": {},
   "outputs": [
    {
     "name": "stdout",
     "output_type": "stream",
     "text": [
      "[20.         23.33333333 26.66666667 30.         33.33333333 36.66666667\n",
      " 40.        ]\n"
     ]
    }
   ],
   "source": [
    "# for a graph plotting\n",
    "a=np.linspace(20,40,7)\n",
    "print(a)"
   ]
  },
  {
   "cell_type": "code",
   "execution_count": 77,
   "id": "e0db3af0-8e5a-40a6-96be-4887105d4379",
   "metadata": {},
   "outputs": [
    {
     "name": "stdout",
     "output_type": "stream",
     "text": [
      "[[ 1200  3410  2400  1000]\n",
      " [  260  3400  1000  1300]\n",
      " [10000 35000 13000 10000]]\n"
     ]
    }
   ],
   "source": [
    "#  QUARTERLY SALE OF A STATIONARY SHOP\n",
    "Copy_Sale= [ 1200,3410,2400,1000]\n",
    "Pen_Sale = [ 260,3400,1000,1300]\n",
    "Book_Sale = [10000,35000,13000,10000]\n",
    "sales= np.array([Copy_Sale,Pen_Sale,Book_Sale])\n",
    "print(sales)"
   ]
  },
  {
   "cell_type": "code",
   "execution_count": 81,
   "id": "693fa25e-440f-4301-9922-066371883723",
   "metadata": {},
   "outputs": [
    {
     "name": "stdin",
     "output_type": "stream",
     "text": [
      "type 1 for copy sale,type 2 pen sale,type 3 for book sale: 1\n",
      "Enter the quarter you want:  3\n"
     ]
    },
    {
     "name": "stdout",
     "output_type": "stream",
     "text": [
      "your required data is :  2400\n"
     ]
    }
   ],
   "source": [
    "x=int(input(\"type 1 for copy sale,type 2 pen sale,type 3 for book sale:\"))\n",
    "y=int(input(\"Enter the quarter you want: \"))\n",
    "print(\"your required data is : \",sales[x-1][y-1])"
   ]
  },
  {
   "cell_type": "code",
   "execution_count": 89,
   "id": "b4642379-cec8-43e4-9b5b-01802671b21f",
   "metadata": {},
   "outputs": [
    {
     "name": "stdout",
     "output_type": "stream",
     "text": [
      "0\n",
      "3410\n"
     ]
    }
   ],
   "source": [
    "r={'Copy':0,'Pen':1,'Book':2}\n",
    "q={'q1':0,'q2':1,'q3':2,'q4':3}\n",
    "print(r['Copy'])\n",
    "print(sales[r['Copy']][q['q2']])"
   ]
  },
  {
   "cell_type": "code",
   "execution_count": 90,
   "id": "f57c48c5-68df-44d4-b533-258bb46d9a02",
   "metadata": {},
   "outputs": [
    {
     "name": "stdout",
     "output_type": "stream",
     "text": [
      "[ 0  6 12 18 24 30 36 42 48 54 60 66 72 78 84 90 96]\n"
     ]
    }
   ],
   "source": [
    "# Slicing \n",
    "a=np.arange(100)\n",
    "print(a[0::6])"
   ]
  },
  {
   "cell_type": "code",
   "execution_count": 91,
   "id": "a246dd54-179b-4fd3-8048-5df37a681140",
   "metadata": {},
   "outputs": [
    {
     "name": "stdout",
     "output_type": "stream",
     "text": [
      "[ 0  1  2  3  4  5  6  7  8  9 10 11 12 13 14 15 16 17 18 19 20 21 22 23\n",
      " 24 25 26 27 28 29 30 31 32 33]\n"
     ]
    }
   ],
   "source": [
    "print(a[0:34:])"
   ]
  },
  {
   "cell_type": "code",
   "execution_count": 93,
   "id": "62f5ff68-18a4-413d-8c76-1854c8a9b56b",
   "metadata": {},
   "outputs": [
    {
     "data": {
      "text/plain": [
       "array([[ 0,  1,  2,  3],\n",
       "       [ 4,  5,  6,  7],\n",
       "       [ 8,  9, 10, 11]])"
      ]
     },
     "execution_count": 93,
     "metadata": {},
     "output_type": "execute_result"
    }
   ],
   "source": [
    "arr1=np.arange(12)\n",
    "arr2=arr1.reshape(3,4)\n",
    "arr2"
   ]
  },
  {
   "cell_type": "code",
   "execution_count": 97,
   "id": "05927df5-2ee6-4e16-9901-09c54017492f",
   "metadata": {},
   "outputs": [
    {
     "name": "stdout",
     "output_type": "stream",
     "text": [
      "[[ 5  6]\n",
      " [ 9 10]]\n"
     ]
    }
   ],
   "source": [
    "y=arr2[1:3,1:3]\n",
    "print(y)"
   ]
  },
  {
   "cell_type": "code",
   "execution_count": null,
   "id": "4dabdac8-1fac-4648-b65c-d3b85aacedab",
   "metadata": {},
   "outputs": [],
   "source": []
  },
  {
   "cell_type": "code",
   "execution_count": null,
   "id": "27aa4602-e9a4-4c5f-8154-6f86eec815eb",
   "metadata": {},
   "outputs": [],
   "source": []
  },
  {
   "cell_type": "code",
   "execution_count": null,
   "id": "22cc8573-e8c9-4d8e-96fc-572634159384",
   "metadata": {},
   "outputs": [],
   "source": []
  },
  {
   "cell_type": "code",
   "execution_count": null,
   "id": "0d46badb-b325-4359-a8b4-2e14c18d2587",
   "metadata": {},
   "outputs": [],
   "source": []
  },
  {
   "cell_type": "code",
   "execution_count": null,
   "id": "6bbad25d-2e56-41d8-a3d9-5c48ab5fdd6d",
   "metadata": {},
   "outputs": [],
   "source": []
  },
  {
   "cell_type": "code",
   "execution_count": null,
   "id": "4b592838-b174-48cd-ad09-77d53b9d3ab6",
   "metadata": {},
   "outputs": [],
   "source": []
  }
 ],
 "metadata": {
  "kernelspec": {
   "display_name": "Python 3 (ipykernel)",
   "language": "python",
   "name": "python3"
  },
  "language_info": {
   "codemirror_mode": {
    "name": "ipython",
    "version": 3
   },
   "file_extension": ".py",
   "mimetype": "text/x-python",
   "name": "python",
   "nbconvert_exporter": "python",
   "pygments_lexer": "ipython3",
   "version": "3.12.0"
  }
 },
 "nbformat": 4,
 "nbformat_minor": 5
}

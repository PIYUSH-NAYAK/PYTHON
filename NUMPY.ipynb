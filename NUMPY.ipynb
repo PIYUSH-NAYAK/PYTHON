{
 "cells": [
  {
   "cell_type": "code",
   "execution_count": null,
   "id": "c18f1880-4cf7-43a1-a4d3-0a92bea3a7cd",
   "metadata": {},
   "outputs": [],
   "source": [
    "# Numpy - Array\n",
    "# Pandas - Data Frame\n",
    "# Matplotlib - Graph"
   ]
  },
  {
   "cell_type": "code",
   "execution_count": null,
   "id": "181e8bd6-1f41-4a17-926b-89f2726f5c35",
   "metadata": {},
   "outputs": [],
   "source": [
    "import numpy as np\n",
    "np.array([10,20,30])\n",
    "# print(array)"
   ]
  },
  {
   "cell_type": "code",
   "execution_count": null,
   "id": "54376479-48ae-4317-95e1-40e95cc0b23c",
   "metadata": {},
   "outputs": [],
   "source": [
    "try:\n",
    "    import numpy\n",
    "    print(\"NumPy is installed.\")\n",
    "except ImportError:\n",
    "    print(\"NumPy is not installed.\")\n"
   ]
  },
  {
   "cell_type": "code",
   "execution_count": null,
   "id": "4ba223a4-d78a-4210-8968-0c5b9ab490bd",
   "metadata": {},
   "outputs": [],
   "source": [
    "import numpy as pn\n",
    "arr=pn.array([[10,20,30],[40,50,60],[70,80,90]])\n",
    "print(arr)\n",
    "\n",
    "print(arr[0,2])\n",
    "print(arr[1,2])\n",
    "#not working\n",
    "# arr.append(30)\n",
    "# print(arr)"
   ]
  },
  {
   "cell_type": "code",
   "execution_count": null,
   "id": "04dbbd1e-b3b0-448f-9a42-f69e4988a3ea",
   "metadata": {},
   "outputs": [],
   "source": [
    "# if no data is available we can fill it with nan\n",
    "arr=pn.array([1,2,np.nan])\n",
    "print(arr)"
   ]
  },
  {
   "cell_type": "code",
   "execution_count": null,
   "id": "4fa0025b-56ca-4dfc-843e-92c79169adde",
   "metadata": {},
   "outputs": [],
   "source": [
    "import numpy as np\n",
    "a=np.array([10,20,30,50,40] )\n",
    "a[2:4]"
   ]
  },
  {
   "cell_type": "code",
   "execution_count": null,
   "id": "0fbde2f9-7ca0-403e-b324-2533e8e6c10d",
   "metadata": {},
   "outputs": [],
   "source": [
    "print(a)\n",
    "b=a[1:5]\n",
    "b[1]= 696\n",
    "print(b)\n",
    "print(a)"
   ]
  },
  {
   "cell_type": "code",
   "execution_count": null,
   "id": "a9204671-7d96-4928-9e75-7b8bdd736fa9",
   "metadata": {},
   "outputs": [],
   "source": [
    "# in numpy range is written as arange\n",
    "a=np.arange(5)\n",
    "b=np.arange(0,10)\n",
    "c=np.arange(5,100,17)\n",
    "print(a)\n",
    "print(b)\n",
    "print(c)"
   ]
  },
  {
   "cell_type": "code",
   "execution_count": null,
   "id": "1713a5d2-42af-4143-be4b-c06ec90aa3f0",
   "metadata": {},
   "outputs": [],
   "source": [
    "a=np.arange(9)\n",
    "print(a)\n",
    "b=a.reshape (3,3)\n",
    "print(b)"
   ]
  },
  {
   "cell_type": "code",
   "execution_count": null,
   "id": "30cd37ef-e1f7-4f8e-8a8c-5767160d81a7",
   "metadata": {},
   "outputs": [],
   "source": [
    "x=np.arange(9)\n",
    "print(x)\n",
    "# y=x.reshape(3,3)\n",
    "y=np.ones((3,3))\n",
    "y=np.ones((6,9)) * 5\n",
    "print(y)"
   ]
  },
  {
   "cell_type": "code",
   "execution_count": null,
   "id": "56f3499f-6d9a-4455-8f68-8c6545325c98",
   "metadata": {},
   "outputs": [],
   "source": [
    "# 'F' means column major order\n",
    "mat1=np.arange(30)\n",
    "mat2=np.reshape(mat1,(6,5),'F')\n",
    "print(mat2)"
   ]
  },
  {
   "cell_type": "code",
   "execution_count": null,
   "id": "a6da1100-612e-4001-8b0d-5780723b6d50",
   "metadata": {},
   "outputs": [],
   "source": [
    "# 'C' means row major order\n",
    "mat1=np.arange(30)\n",
    "mat2=np.reshape(mat1,(3,10),'C')\n",
    "print(mat2)"
   ]
  },
  {
   "cell_type": "code",
   "execution_count": null,
   "id": "2264ee00-2254-4877-b08a-8f935cf504ff",
   "metadata": {},
   "outputs": [],
   "source": [
    "#  transverse in matrix \n",
    "print(mat2)\n",
    "print(mat2.T)"
   ]
  },
  {
   "cell_type": "code",
   "execution_count": null,
   "id": "66b62c1b-2094-452f-9b9c-dff4c6fdecf5",
   "metadata": {},
   "outputs": [],
   "source": [
    "import numpy as np\n",
    "a=np.arange(9)\n",
    "b=a.reshape(3,3)\n",
    "print(b)"
   ]
  },
  {
   "cell_type": "code",
   "execution_count": null,
   "id": "52e6654c-46ef-4f0d-901d-b3c5beb17769",
   "metadata": {},
   "outputs": [],
   "source": [
    "c=np.arange(8,17)\n",
    "d=c.reshape(3,3)\n",
    "print(d)"
   ]
  },
  {
   "cell_type": "code",
   "execution_count": null,
   "id": "fecb1ee1-0de4-44ae-92dd-f77cb90cd1e8",
   "metadata": {},
   "outputs": [],
   "source": [
    "print(b+d)\n",
    "print(b-d)\n",
    "print((b-d) + 8)\n",
    "print(b*d)\n",
    "# print((b+d).T)\n",
    "# print(e)\n",
    "# print(e.T)"
   ]
  },
  {
   "cell_type": "code",
   "execution_count": null,
   "id": "921db28f-3fd3-45e6-af19-f7f11ecd8e3c",
   "metadata": {},
   "outputs": [],
   "source": [
    "# for actual multiplication of matrix we'll use '@'\n",
    "print(b@d)"
   ]
  },
  {
   "cell_type": "code",
   "execution_count": null,
   "id": "3fa52f09-1442-4c34-8581-225c1868dfc5",
   "metadata": {},
   "outputs": [],
   "source": [
    "a=np.arange(12)\n",
    "b=a.reshape(3,4)\n",
    "b"
   ]
  },
  {
   "cell_type": "code",
   "execution_count": null,
   "id": "1edd28f2-2e71-4852-8958-ca499dddb40a",
   "metadata": {},
   "outputs": [],
   "source": [
    "#  ravel is used to flatten the array\n",
    "b.ravel()"
   ]
  },
  {
   "cell_type": "code",
   "execution_count": null,
   "id": "dae67379-f30c-418f-bf74-2358d9fe41d8",
   "metadata": {},
   "outputs": [],
   "source": [
    "# for a graph plotting\n",
    "a=np.linspace(20,40,7)\n",
    "print(a)"
   ]
  },
  {
   "cell_type": "code",
   "execution_count": null,
   "id": "e0db3af0-8e5a-40a6-96be-4887105d4379",
   "metadata": {},
   "outputs": [],
   "source": [
    "#  QUARTERLY SALE OF A STATIONARY SHOP\n",
    "Copy_Sale= [ 1200,3410,2400,1000]\n",
    "Pen_Sale = [ 260,3400,1000,1300]\n",
    "Book_Sale = [10000,35000,13000,10000]\n",
    "sales= np.array([Copy_Sale,Pen_Sale,Book_Sale])\n",
    "print(sales)"
   ]
  },
  {
   "cell_type": "code",
   "execution_count": null,
   "id": "693fa25e-440f-4301-9922-066371883723",
   "metadata": {},
   "outputs": [],
   "source": [
    "x=int(input(\"type 1 for copy sale,type 2 pen sale,type 3 for book sale:\"))\n",
    "y=int(input(\"Enter the quarter you want: \"))\n",
    "print(\"your required data is : \",sales[x-1][y-1])"
   ]
  },
  {
   "cell_type": "code",
   "execution_count": null,
   "id": "b4642379-cec8-43e4-9b5b-01802671b21f",
   "metadata": {},
   "outputs": [],
   "source": [
    "r={'Copy':0,'Pen':1,'Book':2}\n",
    "q={'q1':0,'q2':1,'q3':2,'q4':3}\n",
    "print(r['Copy'])\n",
    "print(sales[r['Copy']][q['q2']])"
   ]
  },
  {
   "cell_type": "code",
   "execution_count": null,
   "id": "f57c48c5-68df-44d4-b533-258bb46d9a02",
   "metadata": {},
   "outputs": [],
   "source": [
    "# Slicing \n",
    "a=np.arange(100)\n",
    "print(a[0::6])"
   ]
  },
  {
   "cell_type": "code",
   "execution_count": null,
   "id": "a246dd54-179b-4fd3-8048-5df37a681140",
   "metadata": {},
   "outputs": [],
   "source": [
    "print(a[0:34:])"
   ]
  },
  {
   "cell_type": "code",
   "execution_count": null,
   "id": "62f5ff68-18a4-413d-8c76-1854c8a9b56b",
   "metadata": {},
   "outputs": [],
   "source": [
    "arr1=np.arange(12)\n",
    "arr2=arr1.reshape(3,4)\n",
    "arr2"
   ]
  },
  {
   "cell_type": "code",
   "execution_count": null,
   "id": "05927df5-2ee6-4e16-9901-09c54017492f",
   "metadata": {},
   "outputs": [],
   "source": [
    "y=arr2[1:3,1:3]\n",
    "print(y)"
   ]
  },
  {
   "cell_type": "code",
   "execution_count": null,
   "id": "4dabdac8-1fac-4648-b65c-d3b85aacedab",
   "metadata": {},
   "outputs": [],
   "source": []
  },
  {
   "cell_type": "code",
   "execution_count": null,
   "id": "27aa4602-e9a4-4c5f-8154-6f86eec815eb",
   "metadata": {},
   "outputs": [],
   "source": []
  },
  {
   "cell_type": "code",
   "execution_count": null,
   "id": "22cc8573-e8c9-4d8e-96fc-572634159384",
   "metadata": {},
   "outputs": [],
   "source": []
  },
  {
   "cell_type": "code",
   "execution_count": null,
   "id": "0d46badb-b325-4359-a8b4-2e14c18d2587",
   "metadata": {},
   "outputs": [],
   "source": []
  },
  {
   "cell_type": "code",
   "execution_count": null,
   "id": "6bbad25d-2e56-41d8-a3d9-5c48ab5fdd6d",
   "metadata": {},
   "outputs": [],
   "source": []
  },
  {
   "cell_type": "code",
   "execution_count": null,
   "id": "4b592838-b174-48cd-ad09-77d53b9d3ab6",
   "metadata": {},
   "outputs": [],
   "source": []
  }
 ],
 "metadata": {
  "kernelspec": {
   "display_name": "Python 3 (ipykernel)",
   "language": "python",
   "name": "python3"
  },
  "language_info": {
   "codemirror_mode": {
    "name": "ipython",
    "version": 3
   },
   "file_extension": ".py",
   "mimetype": "text/x-python",
   "name": "python",
   "nbconvert_exporter": "python",
   "pygments_lexer": "ipython3",
   "version": "3.12.0"
  }
 },
 "nbformat": 4,
 "nbformat_minor": 5
}

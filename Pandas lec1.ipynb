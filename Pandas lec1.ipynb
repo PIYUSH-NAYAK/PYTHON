{
 "cells": [
  {
   "cell_type": "code",
   "execution_count": null,
   "id": "2c6a2feb-5780-4295-bea9-a568278b9df1",
   "metadata": {},
   "outputs": [],
   "source": [
    "import numpy as np\n",
    "import pandas as pd\n",
    "series=pd.Series([1,30,42,31])\n",
    "print(series)"
   ]
  },
  {
   "cell_type": "code",
   "execution_count": null,
   "id": "f94a1c1e-d38d-4dce-9fa6-2e857f3fb740",
   "metadata": {},
   "outputs": [],
   "source": [
    "import pandas as pd\n",
    "\n",
    "print(\"Pandas is installed!\")"
   ]
  },
  {
   "cell_type": "code",
   "execution_count": null,
   "id": "edb38e21-f07a-4f2a-a35e-8fe6b3e4d43b",
   "metadata": {},
   "outputs": [],
   "source": [
    "arr1 = np.array([1,2,3,4,5])\n",
    "series= pd.Series(arr1)\n",
    "print(arr1)\n",
    "print()\n",
    "print(series)\n",
    "print(series[1:4])"
   ]
  },
  {
   "cell_type": "code",
   "execution_count": null,
   "id": "e834be52-0c18-4db1-bd45-9e6ff98d8e4c",
   "metadata": {},
   "outputs": [],
   "source": [
    "dict1 = {\n",
    "    'Name':\"PIYUSH\",\n",
    "    'Age' : 20,\n",
    "    'College': 'IIIT L',\n",
    "    'Branch': 'CSB'\n",
    "}\n",
    "series=pd.Series(dict1)\n",
    "print(series)\n",
    "print()\n",
    "series['Age'] = 19\n",
    "print(series)"
   ]
  },
  {
   "cell_type": "code",
   "execution_count": null,
   "id": "abae7848-f5fa-42c2-bc0c-f4626cd5798b",
   "metadata": {},
   "outputs": [],
   "source": [
    "print(series['Name': 'College'])"
   ]
  },
  {
   "cell_type": "code",
   "execution_count": null,
   "id": "d1b0cfcf-844d-4c42-b180-b7e8385ad710",
   "metadata": {},
   "outputs": [],
   "source": [
    "n=5\n",
    "for i in range(n):\n",
    "    n+=i\n",
    "print(n)"
   ]
  },
  {
   "cell_type": "code",
   "execution_count": null,
   "id": "60a9c1f7-a119-4a90-8a8c-255ac7062f89",
   "metadata": {},
   "outputs": [],
   "source": [
    "list1=[10,20,30,40]\n",
    "d1=pd.DataFrame(list1)\n",
    "print(d1)"
   ]
  },
  {
   "cell_type": "code",
   "execution_count": null,
   "id": "821dbb5e-d62e-4a31-8300-e012c39af56f",
   "metadata": {},
   "outputs": [],
   "source": [
    "list2=[{'Name':'PIYUSH','Age':20},{'Name':'SID','Age':20},{'Name':'AMRIT','Age':19},{'Name':'ARUN','Age':18}]\n",
    "s1=pd.Series(list2)\n",
    "d1=pd.DataFrame(list2)\n"
   ]
  },
  {
   "cell_type": "code",
   "execution_count": null,
   "id": "1ab804ee-14b9-4bd1-b94d-b06381c45db2",
   "metadata": {},
   "outputs": [],
   "source": [
    "print(s1)"
   ]
  },
  {
   "cell_type": "code",
   "execution_count": null,
   "id": "64c5770c-b595-4780-9585-84f906db633f",
   "metadata": {},
   "outputs": [],
   "source": [
    "print(d1)"
   ]
  },
  {
   "cell_type": "code",
   "execution_count": null,
   "id": "5a8ccbf7-9823-4c5d-8009-9c9336916d5e",
   "metadata": {},
   "outputs": [],
   "source": [
    "#  OR\n",
    "list1={'Name': ['PIYUSH','ARUN','AMRIT','SID'], 'AGE':[20,18,19,20]}\n",
    "dat1= pd.DataFrame(list1)\n",
    "print(dat1)\n"
   ]
  },
  {
   "cell_type": "code",
   "execution_count": null,
   "id": "e29ce1f1-04a1-454b-93d6-36ec3e142a36",
   "metadata": {},
   "outputs": [],
   "source": [
    "print(pd.DataFrame(list1))"
   ]
  },
  {
   "cell_type": "code",
   "execution_count": null,
   "id": "017a52cd-360a-44c9-b685-0a1df3f1bc4f",
   "metadata": {},
   "outputs": [],
   "source": [
    "# It automatically fill NAN value if no data available\n",
    "list2=[{'Name':'PIYUSH','Age':20},{'Name':'SID','Age':20},{'Name':'AMRIT','Age':19,\"BRANCH\":'CSB'},{'Name':'ARUN','Age':18}]\n",
    "\n",
    "d1=pd.DataFrame(list2)\n",
    "print(d1)"
   ]
  },
  {
   "cell_type": "code",
   "execution_count": null,
   "id": "b01de1ae-bf0c-4013-97d7-658ee1ee3a4e",
   "metadata": {},
   "outputs": [],
   "source": []
  },
  {
   "cell_type": "code",
   "execution_count": null,
   "id": "c84a69ac-f906-47a5-8067-d265b44b9710",
   "metadata": {},
   "outputs": [],
   "source": [
    "import pandas as pd\n",
    "# , \"BRANCH\": ['CSB', 'CSB', 'CSB', 'CS', 'CSAI']\n",
    "list1 = {'Name': ['PIYUSH', 'ARUN', 'AMRIT', 'SID', 'Swyam'], 'AGE': [20, 18, 19, 20, 19]}\n",
    "dat1 = pd.DataFrame(list1, index=['1', '2', '3', '4', '5'])\n",
    "print(dat1)\n"
   ]
  },
  {
   "cell_type": "code",
   "execution_count": null,
   "id": "45c4932b-7a03-4fba-943a-c22f566e497d",
   "metadata": {},
   "outputs": [],
   "source": [
    "# dat1['Roll NO.']="
   ]
  },
  {
   "cell_type": "code",
   "execution_count": null,
   "id": "1b1996f1-af60-4dac-a788-44af720ab01c",
   "metadata": {},
   "outputs": [],
   "source": [
    "list2 ={\n",
    "    'NAME': pd.Series (['PIYUSH','AMRIT','SWYAM','ANURAG'], index = [1,2,3,4]),\n",
    "    'AGE': pd.Series([20,19,19,19], index = [1,2,3,4]),\n",
    "   \n",
    "    \n",
    "}\n",
    "df1=pd.DataFrame(list2)\n",
    "print(df1)"
   ]
  },
  {
   "cell_type": "code",
   "execution_count": null,
   "id": "a765842b-464f-480b-95cf-7f49dd18f828",
   "metadata": {},
   "outputs": [],
   "source": [
    "import pandas as pd\n",
    "\n",
    "list2 = {\n",
    "    'NAME': pd.Series(['PIYUSH', 'AMRIT', 'SWYAM', 'ANURAG']),\n",
    "    'AGE': pd.Series([20, 19, 19, 19]),\n",
    "}\n",
    "\n",
    "# index = [1, 2, 3, 4]\n",
    "\n",
    "df1 = pd.DataFrame(list2)\n",
    "print(df1)\n"
   ]
  },
  {
   "cell_type": "code",
   "execution_count": null,
   "id": "c4263cc1-0b83-4c78-ab31-0cccfe2308df",
   "metadata": {},
   "outputs": [],
   "source": [
    "df1['Branch']=pd.Series(['CSB','CSB','CSAI','CSAI'],\n",
    "                        index=[1,2,3,4])\n",
    "print(df1)"
   ]
  },
  {
   "cell_type": "code",
   "execution_count": null,
   "id": "0e74e650-b8c4-44e4-9919-e53c8112d619",
   "metadata": {},
   "outputs": [],
   "source": [
    "print(df1['NAME'])\n",
    "print()\n",
    "print(df1['AGE'])\n",
    "print()\n",
    "print(df1['Branch'])"
   ]
  },
  {
   "cell_type": "code",
   "execution_count": null,
   "id": "60756c66-0c5e-4088-a2d8-cabd6774b77b",
   "metadata": {},
   "outputs": [],
   "source": [
    "# double square bracket for printing like dataframe not like series\n",
    "print(df1[['AGE']])"
   ]
  },
  {
   "cell_type": "code",
   "execution_count": null,
   "id": "e81b682f-82f7-41e8-9cc2-9447ba00e194",
   "metadata": {},
   "outputs": [],
   "source": [
    "print(df1[['NAME','AGE']])\n",
    "print()\n",
    "print(df1)"
   ]
  },
  {
   "cell_type": "code",
   "execution_count": null,
   "id": "132bd1e2-8e32-43ff-9a08-18a215174669",
   "metadata": {},
   "outputs": [],
   "source": [
    "df1.columns"
   ]
  },
  {
   "cell_type": "code",
   "execution_count": null,
   "id": "3f224b84-1d02-4483-80e7-b4f29481c554",
   "metadata": {},
   "outputs": [],
   "source": [
    "# to print row of dataframe we use .loc\n",
    "print(df1.loc[1])\n",
    "print()\n",
    "print(df1.loc[[1]])\n",
    "print()\n",
    "print(df1.loc[[3]])\n",
    "\n"
   ]
  },
  {
   "cell_type": "code",
   "execution_count": null,
   "id": "86ab0464-65d6-43d5-852a-b5ed612caa29",
   "metadata": {},
   "outputs": [],
   "source": [
    "print(df1.loc[1:4])"
   ]
  },
  {
   "cell_type": "code",
   "execution_count": null,
   "id": "ff7fce0c-5ea5-4ef5-ab70-1c655acbfdca",
   "metadata": {},
   "outputs": [],
   "source": [
    "print(df1.loc[[]])"
   ]
  },
  {
   "cell_type": "code",
   "execution_count": null,
   "id": "e6a2dcff-5745-4734-809a-8232416f053c",
   "metadata": {},
   "outputs": [],
   "source": [
    "import pandas as pd\n",
    "list2 ={\n",
    "    'NAME': pd.Series (['PIYUSH','AMRIT','SWYAM','ANURAG'],index = ['Row1','Row2','Row3','Row4'] ),\n",
    "    'AGE': pd.Series([20,19,19,19],index = ['Row1','Row2','Row3','Row4']),\n",
    "    'Branch' : pd.Series(['CSB','CSB','CSAI','CSAI'],index = ['Row1','Row2','Row3','Row4'])\n",
    "\n",
    "   \n",
    "    \n",
    "}\n",
    "\n",
    "df1=pd.DataFrame(list2)\n",
    "print(df1)"
   ]
  },
  {
   "cell_type": "code",
   "execution_count": null,
   "id": "a1fb3fed-7de4-4cd4-a02e-06b3c60e1ec0",
   "metadata": {},
   "outputs": [],
   "source": [
    "print(df1.iloc[[0]])"
   ]
  },
  {
   "cell_type": "code",
   "execution_count": null,
   "id": "07b93c08-d873-468e-aac5-8b3407c51c65",
   "metadata": {},
   "outputs": [],
   "source": [
    "print(df1.iloc[0:4])"
   ]
  },
  {
   "cell_type": "code",
   "execution_count": null,
   "id": "f7db69a9-01b6-4ea6-80d7-780b09519759",
   "metadata": {},
   "outputs": [],
   "source": [
    "print(df1.iloc[2:4,0:2])"
   ]
  },
  {
   "cell_type": "code",
   "execution_count": null,
   "id": "ad075773-371b-4c58-9714-d32fd5a36464",
   "metadata": {},
   "outputs": [],
   "source": [
    "import pandas as pd\n",
    "row=pd.DataFrame([['ABHAY',19],['SID',20]],columns=['NAME',\"AGE\"])\n",
    "row"
   ]
  },
  {
   "cell_type": "code",
   "execution_count": null,
   "id": "62fe9bbf-4cb4-4700-8e8f-c604782316ef",
   "metadata": {},
   "outputs": [],
   "source": []
  },
  {
   "cell_type": "code",
   "execution_count": null,
   "id": "48b1022f-310a-4c46-a3c8-86f03badb63e",
   "metadata": {},
   "outputs": [],
   "source": [
    "import pandas as pd\n",
    "\n",
    "list2 ={\n",
    "    'NAME': pd.Series(['PIYUSH', 'AMRIT', 'SWYAM', 'ANURAG'], index=['Row1', 'Row2', 'Row3', 'Row4']),\n",
    "    'AGE': pd.Series([20, 19, 19, 19], index=['Row1', 'Row2', 'Row3', 'Row4']),\n",
    "    'Branch': pd.Series(['CSB', 'CSB', 'CSAI', 'CSAI'], index=['Row1', 'Row2', 'Row3', 'Row4'])\n",
    "}\n",
    "\n",
    "df1 = pd.DataFrame(list2)\n",
    "print(df1)\n",
    "\n"
   ]
  },
  {
   "cell_type": "code",
   "execution_count": null,
   "id": "df00f144-d227-418c-9d4b-0fa3c816331a",
   "metadata": {},
   "outputs": [],
   "source": [
    "row1=pd.DataFrame([['Abhay',19],['Sid',20]],columns = ['NAME','AGE'])\n",
    "print(row1)"
   ]
  },
  {
   "cell_type": "code",
   "execution_count": null,
   "id": "6d6bdea2-ea0d-4397-9f40-4fb064695b0c",
   "metadata": {},
   "outputs": [],
   "source": [
    "import pandas as pd\n",
    "\n",
    "row1 = pd.DataFrame([['Abhay', 19], ['Sid', 20]], columns=['NAME', 'AGE'])\n",
    "print(row1)\n"
   ]
  },
  {
   "cell_type": "code",
   "execution_count": null,
   "id": "f1552d77-cf02-4eae-afc6-2dc03c5c3092",
   "metadata": {},
   "outputs": [],
   "source": [
    "# import pandas as pd\n",
    "# import numpy as np\n",
    "# df = pd.DataFrame([[1, 2], [3, 4]], columns=list('AB'))\n",
    "# print(df)\n",
    "\n",
    "\n",
    "#  df2 = pd.DataFrame([[5, 6], [7, 8]], columns=list('AB'))\n",
    "#  df.append(df2)\n",
    "# print(df2)"
   ]
  },
  {
   "cell_type": "code",
   "execution_count": null,
   "id": "059588dd-cac6-4a8a-b5db-3cc4b7ecaf6b",
   "metadata": {},
   "outputs": [],
   "source": [
    "# import pandas as pd\n",
    "# import numpy as np\n",
    "\n",
    "# df = pd.DataFrame([[1, 2], [3, 4]], columns=list('AB'))\n",
    "# print(df)\n",
    "\n",
    "# df2 = pd.DataFrame([[5, 6], [7, 8]], columns=list('AB'))\n",
    "# df = df.append(df2)  # Assign the result back to df\n",
    "# print(df)\n"
   ]
  },
  {
   "cell_type": "code",
   "execution_count": null,
   "id": "3f3560b6-baba-40d6-bc85-56011422bde8",
   "metadata": {},
   "outputs": [],
   "source": [
    "import pandas as pd\n",
    "list2 = [{'Name': 'John','Age':25}, {'Name':'Sam','Age':20},\n",
    "         {'Name':'Eric','Age':30},{'Name':'Ken','Age':28}]\n",
    "dataframe2=pd.DataFrame(list2)\n",
    "# print (dataframe2 [['Name','Age']])\n",
    "print(dataframe2)\n"
   ]
  },
  {
   "cell_type": "code",
   "execution_count": null,
   "id": "9ebc4767-458e-455c-96c3-7b30ba125c7d",
   "metadata": {},
   "outputs": [],
   "source": [
    "import pandas as pd\n",
    "dict1 = {\n",
    "    'name' :pd.Series (['PIY','ABC','XYZ'],index=[1,2,3]),\n",
    "    'AGE' : pd.Series(['20','19','19'],index=[1,2,3])\n",
    "}\n",
    "df1=pd.DataFrame(dict1)\n",
    "print(df2)"
   ]
  },
  {
   "cell_type": "code",
   "execution_count": null,
   "id": "f429bd73-5aa5-4420-b4eb-33979603f7ac",
   "metadata": {},
   "outputs": [],
   "source": [
    "dict2 = {\n",
    "      'name' :pd.Series (['PIY','ABC','XYZ'],index=[4,5,6]),\n",
    "    'AGE' : pd.Series(['20','19','19'],index=[4,5,6])\n",
    "}\n",
    "df2=pd.DataFrame(dict2)\n",
    "print(df2)"
   ]
  },
  {
   "cell_type": "code",
   "execution_count": null,
   "id": "1bf5fcc0-90d0-450a-94ea-229501bac229",
   "metadata": {},
   "outputs": [],
   "source": [
    "result=pd.concat([df1,df2])\n",
    "print(result)"
   ]
  },
  {
   "cell_type": "code",
   "execution_count": null,
   "id": "512f89e3-5ef2-4465-93c9-75e670b2fd93",
   "metadata": {},
   "outputs": [],
   "source": [
    "result=pd.concat([df1,df2],axis=1)\n",
    "print(result)"
   ]
  },
  {
   "cell_type": "code",
   "execution_count": null,
   "id": "68d8a663-bf2b-443b-9352-cf438c098b1f",
   "metadata": {},
   "outputs": [],
   "source": [
    "list1 = {\n",
    "    'S.Id': pd.Series(['101','102','103','104','105'],index=[1,2,3,4,5]),\n",
    "    'Name': pd.Series(['ABC','DEF','GHI','JKL','MNO'],index=[1,2,3,4,5]),\n",
    "    \n",
    "}\n",
    "list2 = {\n",
    "    'S.Id': pd.Series(['101','102','103','105','106'],index=[1,2,3,4,5]),\n",
    "    'Course':pd.Series(['DSA','ML','CS','WEBD','AppD'],index=[1,2,3,4,5])\n",
    "}\n",
    "df1=pd.DataFrame(list1)\n",
    "df2=pd.DataFrame(list2)\n",
    "print(df1)\n",
    "print()\n",
    "print(df2)\n",
    "print()\n",
    "# if both df have same column name\n",
    "print(pd.merge(df1,df2,on=['S.Id'],how='outer'))"
   ]
  },
  {
   "cell_type": "code",
   "execution_count": null,
   "id": "f8b15ce7-395d-4764-8a3a-d1be2a17bf41",
   "metadata": {},
   "outputs": [],
   "source": [
    "# if both df have diff column name\n",
    "\n",
    "pd.merge(df1,df2,left_on='S.Id',right_on='S.Id',how='inner')"
   ]
  },
  {
   "cell_type": "code",
   "execution_count": null,
   "id": "4ff2b668-8312-4259-a1a9-b63c5b62ab89",
   "metadata": {},
   "outputs": [],
   "source": [
    "result=pd.merge(df1,df2,left_on='S.Id',right_on='S.Id',how='inner')\n",
    "print(result)"
   ]
  },
  {
   "cell_type": "code",
   "execution_count": null,
   "id": "a26cefbd-2a27-45dd-9d56-5d8cd418f670",
   "metadata": {},
   "outputs": [],
   "source": [
    "pd.merge(df1,df2,left_on='S.Id',right_on='S.Id',how='outer')"
   ]
  },
  {
   "cell_type": "code",
   "execution_count": null,
   "id": "d5a0fa1d-dc30-4046-b962-67e83e110299",
   "metadata": {},
   "outputs": [],
   "source": [
    "pd.merge(df1,df2,left_on='S.Id',right_on='S.Id',how='left')"
   ]
  },
  {
   "cell_type": "code",
   "execution_count": null,
   "id": "5ef291cf-fff5-4352-a741-03d07ccb177a",
   "metadata": {},
   "outputs": [],
   "source": [
    "pd.merge(df1,df2,left_on='S.Id',right_on='S.Id',how='right')"
   ]
  },
  {
   "cell_type": "code",
   "execution_count": null,
   "id": "806da45e-64eb-4017-bf72-6b5048098618",
   "metadata": {},
   "outputs": [],
   "source": [
    "list1 = {\n",
    "    'S.Id': pd.Series(['101','102','103','104','105'],index=[1,2,3,4,5]),\n",
    "    'Name': pd.Series(['ABC','DEF','GHI','JKL','MNO'],index=[1,2,3,4,5]),\n",
    "        'Course':pd.Series(['DSA','ML','CS','WEBD','AppD'],index=[1,2,3,4,5])\n",
    "\n",
    "}\n",
    "list2 = {\n",
    "    'S.Id': pd.Series(['101','102','103','105','106'],index=[1,2,3,4,5]),\n",
    "        'Name': pd.Series(['BC','EF','GI','KL','NO'],index=[1,2,3,4,5]),\n",
    "\n",
    "    'Course':pd.Series(['ML','DSA','CS','WEBD','AppD'],index=[1,2,3,4,5])\n",
    "}\n",
    "df1=pd.DataFrame(list1)\n",
    "df2=pd.DataFrame(list2)\n",
    "print(df1)\n",
    "print()\n",
    "print(df2)"
   ]
  },
  {
   "cell_type": "code",
   "execution_count": null,
   "id": "9fe7292b-1507-4ca2-b96b-190025a6f883",
   "metadata": {},
   "outputs": [],
   "source": [
    "pd.merge(df1,df2,on=['S.Id','Course'])"
   ]
  },
  {
   "cell_type": "code",
   "execution_count": null,
   "id": "71bcde43-8556-4304-a02d-276ab019e696",
   "metadata": {},
   "outputs": [],
   "source": []
  },
  {
   "cell_type": "code",
   "execution_count": null,
   "id": "5d4e544a-1ab4-4492-9f6c-3e18f3b3a7ed",
   "metadata": {},
   "outputs": [],
   "source": []
  },
  {
   "cell_type": "code",
   "execution_count": null,
   "id": "f40b6a0b-6070-4422-833d-fd863b0aa4c7",
   "metadata": {},
   "outputs": [],
   "source": []
  },
  {
   "cell_type": "code",
   "execution_count": null,
   "id": "2f0aeda0-d4c0-4480-a5a9-6e44e497f1ff",
   "metadata": {},
   "outputs": [],
   "source": []
  },
  {
   "cell_type": "code",
   "execution_count": null,
   "id": "6bf7366b-5598-42f9-b9e6-c88e3bf30b0f",
   "metadata": {},
   "outputs": [],
   "source": []
  }
 ],
 "metadata": {
  "kernelspec": {
   "display_name": "Python 3 (ipykernel)",
   "language": "python",
   "name": "python3"
  },
  "language_info": {
   "codemirror_mode": {
    "name": "ipython",
    "version": 3
   },
   "file_extension": ".py",
   "mimetype": "text/x-python",
   "name": "python",
   "nbconvert_exporter": "python",
   "pygments_lexer": "ipython3",
   "version": "3.12.0"
  }
 },
 "nbformat": 4,
 "nbformat_minor": 5
}

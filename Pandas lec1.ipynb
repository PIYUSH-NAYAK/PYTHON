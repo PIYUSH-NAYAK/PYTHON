{
 "cells": [
  {
   "cell_type": "code",
   "execution_count": 1,
   "id": "2c6a2feb-5780-4295-bea9-a568278b9df1",
   "metadata": {},
   "outputs": [
    {
     "name": "stdout",
     "output_type": "stream",
     "text": [
      "0     1\n",
      "1    30\n",
      "2    42\n",
      "3    31\n",
      "dtype: int64\n"
     ]
    }
   ],
   "source": [
    "import numpy as np\n",
    "import pandas as pd\n",
    "series=pd.Series([1,30,42,31])\n",
    "print(series)"
   ]
  },
  {
   "cell_type": "code",
   "execution_count": 2,
   "id": "f94a1c1e-d38d-4dce-9fa6-2e857f3fb740",
   "metadata": {},
   "outputs": [
    {
     "name": "stdout",
     "output_type": "stream",
     "text": [
      "Pandas is installed!\n"
     ]
    }
   ],
   "source": [
    "import pandas as pd\n",
    "\n",
    "print(\"Pandas is installed!\")"
   ]
  },
  {
   "cell_type": "code",
   "execution_count": 3,
   "id": "edb38e21-f07a-4f2a-a35e-8fe6b3e4d43b",
   "metadata": {},
   "outputs": [
    {
     "name": "stdout",
     "output_type": "stream",
     "text": [
      "[1 2 3 4 5]\n",
      "\n",
      "0    1\n",
      "1    2\n",
      "2    3\n",
      "3    4\n",
      "4    5\n",
      "dtype: int32\n",
      "1    2\n",
      "2    3\n",
      "3    4\n",
      "dtype: int32\n"
     ]
    }
   ],
   "source": [
    "arr1 = np.array([1,2,3,4,5])\n",
    "series= pd.Series(arr1)\n",
    "print(arr1)\n",
    "print()\n",
    "print(series)\n",
    "print(series[1:4])"
   ]
  },
  {
   "cell_type": "code",
   "execution_count": 4,
   "id": "e834be52-0c18-4db1-bd45-9e6ff98d8e4c",
   "metadata": {},
   "outputs": [
    {
     "name": "stdout",
     "output_type": "stream",
     "text": [
      "Name       PIYUSH\n",
      "Age            20\n",
      "College    IIIT L\n",
      "Branch        CSB\n",
      "dtype: object\n",
      "\n",
      "Name       PIYUSH\n",
      "Age            19\n",
      "College    IIIT L\n",
      "Branch        CSB\n",
      "dtype: object\n"
     ]
    }
   ],
   "source": [
    "dict1 = {\n",
    "    'Name':\"PIYUSH\",\n",
    "    'Age' : 20,\n",
    "    'College': 'IIIT L',\n",
    "    'Branch': 'CSB'\n",
    "}\n",
    "series=pd.Series(dict1)\n",
    "print(series)\n",
    "print()\n",
    "series['Age'] = 19\n",
    "print(series)"
   ]
  },
  {
   "cell_type": "code",
   "execution_count": 5,
   "id": "abae7848-f5fa-42c2-bc0c-f4626cd5798b",
   "metadata": {},
   "outputs": [
    {
     "name": "stdout",
     "output_type": "stream",
     "text": [
      "Name       PIYUSH\n",
      "Age            19\n",
      "College    IIIT L\n",
      "dtype: object\n"
     ]
    }
   ],
   "source": [
    "print(series['Name': 'College'])"
   ]
  },
  {
   "cell_type": "code",
   "execution_count": 15,
   "id": "d1b0cfcf-844d-4c42-b180-b7e8385ad710",
   "metadata": {},
   "outputs": [
    {
     "name": "stdout",
     "output_type": "stream",
     "text": [
      "15\n"
     ]
    }
   ],
   "source": [
    "n=5\n",
    "for i in range(n):\n",
    "    n+=i\n",
    "print(n)"
   ]
  },
  {
   "cell_type": "code",
   "execution_count": 19,
   "id": "60a9c1f7-a119-4a90-8a8c-255ac7062f89",
   "metadata": {},
   "outputs": [
    {
     "name": "stdout",
     "output_type": "stream",
     "text": [
      "    0\n",
      "0  10\n",
      "1  20\n",
      "2  30\n",
      "3  40\n"
     ]
    }
   ],
   "source": [
    "list1=[10,20,30,40]\n",
    "d1=pd.DataFrame(list1)\n",
    "print(d1)"
   ]
  },
  {
   "cell_type": "code",
   "execution_count": 20,
   "id": "821dbb5e-d62e-4a31-8300-e012c39af56f",
   "metadata": {},
   "outputs": [],
   "source": [
    "list2=[{'Name':'PIYUSH','Age':20},{'Name':'SID','Age':20},{'Name':'AMRIT','Age':19},{'Name':'ARUN','Age':18}]\n",
    "s1=pd.Series(list2)\n",
    "d1=pd.DataFrame(list2)\n"
   ]
  },
  {
   "cell_type": "code",
   "execution_count": 21,
   "id": "1ab804ee-14b9-4bd1-b94d-b06381c45db2",
   "metadata": {},
   "outputs": [
    {
     "name": "stdout",
     "output_type": "stream",
     "text": [
      "0    {'Name': 'PIYUSH', 'Age': 20}\n",
      "1       {'Name': 'SID', 'Age': 20}\n",
      "2     {'Name': 'AMRIT', 'Age': 19}\n",
      "3      {'Name': 'ARUN', 'Age': 18}\n",
      "dtype: object\n"
     ]
    }
   ],
   "source": [
    "print(s1)"
   ]
  },
  {
   "cell_type": "code",
   "execution_count": 22,
   "id": "64c5770c-b595-4780-9585-84f906db633f",
   "metadata": {},
   "outputs": [
    {
     "name": "stdout",
     "output_type": "stream",
     "text": [
      "     Name  Age\n",
      "0  PIYUSH   20\n",
      "1     SID   20\n",
      "2   AMRIT   19\n",
      "3    ARUN   18\n"
     ]
    }
   ],
   "source": [
    "print(d1)"
   ]
  },
  {
   "cell_type": "code",
   "execution_count": 27,
   "id": "5a8ccbf7-9823-4c5d-8009-9c9336916d5e",
   "metadata": {},
   "outputs": [
    {
     "name": "stdout",
     "output_type": "stream",
     "text": [
      "     Name  AGE\n",
      "0  PIYUSH   20\n",
      "1    ARUN   18\n",
      "2   AMRIT   19\n",
      "3     SID   20\n"
     ]
    }
   ],
   "source": [
    "#  OR\n",
    "list1={'Name': ['PIYUSH','ARUN','AMRIT','SID'], 'AGE':[20,18,19,20]}\n",
    "dat1= pd.DataFrame(list1)\n",
    "print(dat1)\n"
   ]
  },
  {
   "cell_type": "code",
   "execution_count": 26,
   "id": "e29ce1f1-04a1-454b-93d6-36ec3e142a36",
   "metadata": {},
   "outputs": [
    {
     "name": "stdout",
     "output_type": "stream",
     "text": [
      "     Name  AGE\n",
      "0  PIYUSH   20\n",
      "1    ARUN   18\n",
      "2   AMRIT   19\n",
      "3     SID   20\n"
     ]
    }
   ],
   "source": [
    "print(pd.DataFrame(list1))"
   ]
  },
  {
   "cell_type": "code",
   "execution_count": 30,
   "id": "017a52cd-360a-44c9-b685-0a1df3f1bc4f",
   "metadata": {},
   "outputs": [
    {
     "name": "stdout",
     "output_type": "stream",
     "text": [
      "     Name  Age BRANCH\n",
      "0  PIYUSH   20    NaN\n",
      "1     SID   20    NaN\n",
      "2   AMRIT   19    CSB\n",
      "3    ARUN   18    NaN\n"
     ]
    }
   ],
   "source": [
    "# It automatically fill NAN value if no data available\n",
    "list2=[{'Name':'PIYUSH','Age':20},{'Name':'SID','Age':20},{'Name':'AMRIT','Age':19,\"BRANCH\":'CSB'},{'Name':'ARUN','Age':18}]\n",
    "\n",
    "d1=pd.DataFrame(list2)\n",
    "print(d1)"
   ]
  },
  {
   "cell_type": "code",
   "execution_count": null,
   "id": "b01de1ae-bf0c-4013-97d7-658ee1ee3a4e",
   "metadata": {},
   "outputs": [],
   "source": []
  },
  {
   "cell_type": "code",
   "execution_count": 14,
   "id": "c84a69ac-f906-47a5-8067-d265b44b9710",
   "metadata": {},
   "outputs": [
    {
     "name": "stdout",
     "output_type": "stream",
     "text": [
      "     Name  AGE\n",
      "1  PIYUSH   20\n",
      "2    ARUN   18\n",
      "3   AMRIT   19\n",
      "4     SID   20\n",
      "5   Swyam   19\n"
     ]
    }
   ],
   "source": [
    "import pandas as pd\n",
    "# , \"BRANCH\": ['CSB', 'CSB', 'CSB', 'CS', 'CSAI']\n",
    "list1 = {'Name': ['PIYUSH', 'ARUN', 'AMRIT', 'SID', 'Swyam'], 'AGE': [20, 18, 19, 20, 19]}\n",
    "dat1 = pd.DataFrame(list1, index=['1', '2', '3', '4', '5'])\n",
    "print(dat1)\n"
   ]
  },
  {
   "cell_type": "code",
   "execution_count": null,
   "id": "45c4932b-7a03-4fba-943a-c22f566e497d",
   "metadata": {},
   "outputs": [],
   "source": [
    "# dat1['Roll NO.']="
   ]
  },
  {
   "cell_type": "code",
   "execution_count": 52,
   "id": "1b1996f1-af60-4dac-a788-44af720ab01c",
   "metadata": {},
   "outputs": [
    {
     "name": "stdout",
     "output_type": "stream",
     "text": [
      "     NAME  AGE\n",
      "1  PIYUSH   20\n",
      "2   AMRIT   19\n",
      "3   SWYAM   19\n",
      "4  ANURAG   19\n"
     ]
    }
   ],
   "source": [
    "list2 ={\n",
    "    'NAME': pd.Series (['PIYUSH','AMRIT','SWYAM','ANURAG'], index = [1,2,3,4]),\n",
    "    'AGE': pd.Series([20,19,19,19], index = [1,2,3,4]),\n",
    "   \n",
    "    \n",
    "}\n",
    "df1=pd.DataFrame(list2)\n",
    "print(df1)"
   ]
  },
  {
   "cell_type": "code",
   "execution_count": 12,
   "id": "a765842b-464f-480b-95cf-7f49dd18f828",
   "metadata": {},
   "outputs": [
    {
     "name": "stdout",
     "output_type": "stream",
     "text": [
      "     NAME  AGE\n",
      "0  PIYUSH   20\n",
      "1   AMRIT   19\n",
      "2   SWYAM   19\n",
      "3  ANURAG   19\n"
     ]
    }
   ],
   "source": [
    "import pandas as pd\n",
    "\n",
    "list2 = {\n",
    "    'NAME': pd.Series(['PIYUSH', 'AMRIT', 'SWYAM', 'ANURAG']),\n",
    "    'AGE': pd.Series([20, 19, 19, 19]),\n",
    "}\n",
    "\n",
    "# index = [1, 2, 3, 4]\n",
    "\n",
    "df1 = pd.DataFrame(list2)\n",
    "print(df1)\n"
   ]
  },
  {
   "cell_type": "code",
   "execution_count": 58,
   "id": "c4263cc1-0b83-4c78-ab31-0cccfe2308df",
   "metadata": {},
   "outputs": [
    {
     "name": "stdout",
     "output_type": "stream",
     "text": [
      "     NAME  AGE Branch\n",
      "1  PIYUSH   20    CSB\n",
      "2   AMRIT   19    CSB\n",
      "3   SWYAM   19   CSAI\n",
      "4  ANURAG   19   CSAI\n"
     ]
    }
   ],
   "source": [
    "df1['Branch']=pd.Series(['CSB','CSB','CSAI','CSAI'],\n",
    "                        index=[1,2,3,4])\n",
    "print(df1)"
   ]
  },
  {
   "cell_type": "code",
   "execution_count": 60,
   "id": "0e74e650-b8c4-44e4-9919-e53c8112d619",
   "metadata": {},
   "outputs": [
    {
     "name": "stdout",
     "output_type": "stream",
     "text": [
      "1    PIYUSH\n",
      "2     AMRIT\n",
      "3     SWYAM\n",
      "4    ANURAG\n",
      "Name: NAME, dtype: object\n",
      "\n",
      "1    20\n",
      "2    19\n",
      "3    19\n",
      "4    19\n",
      "Name: AGE, dtype: int64\n",
      "\n",
      "1     CSB\n",
      "2     CSB\n",
      "3    CSAI\n",
      "4    CSAI\n",
      "Name: Branch, dtype: object\n"
     ]
    }
   ],
   "source": [
    "print(df1['NAME'])\n",
    "print()\n",
    "print(df1['AGE'])\n",
    "print()\n",
    "print(df1['Branch'])"
   ]
  },
  {
   "cell_type": "code",
   "execution_count": 62,
   "id": "60756c66-0c5e-4088-a2d8-cabd6774b77b",
   "metadata": {},
   "outputs": [
    {
     "name": "stdout",
     "output_type": "stream",
     "text": [
      "   AGE\n",
      "1   20\n",
      "2   19\n",
      "3   19\n",
      "4   19\n"
     ]
    }
   ],
   "source": [
    "# double square bracket for printing like dataframe not like series\n",
    "print(df1[['AGE']])"
   ]
  },
  {
   "cell_type": "code",
   "execution_count": 69,
   "id": "e81b682f-82f7-41e8-9cc2-9447ba00e194",
   "metadata": {},
   "outputs": [
    {
     "name": "stdout",
     "output_type": "stream",
     "text": [
      "     NAME  AGE\n",
      "1  PIYUSH   20\n",
      "2   AMRIT   19\n",
      "3   SWYAM   19\n",
      "4  ANURAG   19\n",
      "\n",
      "     NAME  AGE Branch\n",
      "1  PIYUSH   20    CSB\n",
      "2   AMRIT   19    CSB\n",
      "3   SWYAM   19   CSAI\n",
      "4  ANURAG   19   CSAI\n"
     ]
    }
   ],
   "source": [
    "print(df1[['NAME','AGE']])\n",
    "print()\n",
    "print(df1)"
   ]
  },
  {
   "cell_type": "code",
   "execution_count": 70,
   "id": "132bd1e2-8e32-43ff-9a08-18a215174669",
   "metadata": {},
   "outputs": [
    {
     "data": {
      "text/plain": [
       "Index(['NAME', 'AGE', 'Branch'], dtype='object')"
      ]
     },
     "execution_count": 70,
     "metadata": {},
     "output_type": "execute_result"
    }
   ],
   "source": [
    "df1.columns"
   ]
  },
  {
   "cell_type": "code",
   "execution_count": 76,
   "id": "3f224b84-1d02-4483-80e7-b4f29481c554",
   "metadata": {},
   "outputs": [
    {
     "name": "stdout",
     "output_type": "stream",
     "text": [
      "NAME      PIYUSH\n",
      "AGE           20\n",
      "Branch       CSB\n",
      "Name: 1, dtype: object\n",
      "\n",
      "     NAME  AGE Branch\n",
      "1  PIYUSH   20    CSB\n",
      "\n",
      "    NAME  AGE Branch\n",
      "3  SWYAM   19   CSAI\n"
     ]
    }
   ],
   "source": [
    "# to print row of dataframe we use .loc\n",
    "print(df1.loc[1])\n",
    "print()\n",
    "print(df1.loc[[1]])\n",
    "print()\n",
    "print(df1.loc[[3]])\n",
    "\n"
   ]
  },
  {
   "cell_type": "code",
   "execution_count": 77,
   "id": "86ab0464-65d6-43d5-852a-b5ed612caa29",
   "metadata": {},
   "outputs": [
    {
     "name": "stdout",
     "output_type": "stream",
     "text": [
      "     NAME  AGE Branch\n",
      "1  PIYUSH   20    CSB\n",
      "2   AMRIT   19    CSB\n",
      "3   SWYAM   19   CSAI\n",
      "4  ANURAG   19   CSAI\n"
     ]
    }
   ],
   "source": [
    "print(df1.loc[1:4])"
   ]
  },
  {
   "cell_type": "code",
   "execution_count": 79,
   "id": "ff7fce0c-5ea5-4ef5-ab70-1c655acbfdca",
   "metadata": {},
   "outputs": [
    {
     "name": "stdout",
     "output_type": "stream",
     "text": [
      "Empty DataFrame\n",
      "Columns: [NAME, AGE, Branch]\n",
      "Index: []\n"
     ]
    }
   ],
   "source": [
    "print(df1.loc[[]])"
   ]
  },
  {
   "cell_type": "code",
   "execution_count": 25,
   "id": "e6a2dcff-5745-4734-809a-8232416f053c",
   "metadata": {},
   "outputs": [
    {
     "name": "stdout",
     "output_type": "stream",
     "text": [
      "        NAME  AGE Branch\n",
      "Row1  PIYUSH   20    CSB\n",
      "Row2   AMRIT   19    CSB\n",
      "Row3   SWYAM   19   CSAI\n",
      "Row4  ANURAG   19   CSAI\n"
     ]
    }
   ],
   "source": [
    "import pandas as pd\n",
    "list2 ={\n",
    "    'NAME': pd.Series (['PIYUSH','AMRIT','SWYAM','ANURAG'],index = ['Row1','Row2','Row3','Row4'] ),\n",
    "    'AGE': pd.Series([20,19,19,19],index = ['Row1','Row2','Row3','Row4']),\n",
    "    'Branch' : pd.Series(['CSB','CSB','CSAI','CSAI'],index = ['Row1','Row2','Row3','Row4'])\n",
    "\n",
    "   \n",
    "    \n",
    "}\n",
    "\n",
    "df1=pd.DataFrame(list2)\n",
    "print(df1)"
   ]
  },
  {
   "cell_type": "code",
   "execution_count": 5,
   "id": "a1fb3fed-7de4-4cd4-a02e-06b3c60e1ec0",
   "metadata": {},
   "outputs": [
    {
     "name": "stdout",
     "output_type": "stream",
     "text": [
      "        NAME  AGE Branch\n",
      "Row1  PIYUSH   20    CSB\n"
     ]
    }
   ],
   "source": [
    "print(df1.iloc[[0]])"
   ]
  },
  {
   "cell_type": "code",
   "execution_count": 9,
   "id": "07b93c08-d873-468e-aac5-8b3407c51c65",
   "metadata": {},
   "outputs": [
    {
     "name": "stdout",
     "output_type": "stream",
     "text": [
      "        NAME  AGE Branch\n",
      "Row1  PIYUSH   20    CSB\n",
      "Row2   AMRIT   19    CSB\n",
      "Row3   SWYAM   19   CSAI\n",
      "Row4  ANURAG   19   CSAI\n"
     ]
    }
   ],
   "source": [
    "print(df1.iloc[0:4])"
   ]
  },
  {
   "cell_type": "code",
   "execution_count": 13,
   "id": "f7db69a9-01b6-4ea6-80d7-780b09519759",
   "metadata": {},
   "outputs": [
    {
     "name": "stdout",
     "output_type": "stream",
     "text": [
      "        NAME  AGE\n",
      "Row3   SWYAM   19\n",
      "Row4  ANURAG   19\n"
     ]
    }
   ],
   "source": [
    "print(df1.iloc[2:4,0:2])"
   ]
  },
  {
   "cell_type": "code",
   "execution_count": 28,
   "id": "ad075773-371b-4c58-9714-d32fd5a36464",
   "metadata": {},
   "outputs": [
    {
     "data": {
      "text/html": [
       "<div>\n",
       "<style scoped>\n",
       "    .dataframe tbody tr th:only-of-type {\n",
       "        vertical-align: middle;\n",
       "    }\n",
       "\n",
       "    .dataframe tbody tr th {\n",
       "        vertical-align: top;\n",
       "    }\n",
       "\n",
       "    .dataframe thead th {\n",
       "        text-align: right;\n",
       "    }\n",
       "</style>\n",
       "<table border=\"1\" class=\"dataframe\">\n",
       "  <thead>\n",
       "    <tr style=\"text-align: right;\">\n",
       "      <th></th>\n",
       "      <th>NAME</th>\n",
       "      <th>AGE</th>\n",
       "    </tr>\n",
       "  </thead>\n",
       "  <tbody>\n",
       "    <tr>\n",
       "      <th>0</th>\n",
       "      <td>ABHAY</td>\n",
       "      <td>19</td>\n",
       "    </tr>\n",
       "    <tr>\n",
       "      <th>1</th>\n",
       "      <td>SID</td>\n",
       "      <td>20</td>\n",
       "    </tr>\n",
       "  </tbody>\n",
       "</table>\n",
       "</div>"
      ],
      "text/plain": [
       "    NAME  AGE\n",
       "0  ABHAY   19\n",
       "1    SID   20"
      ]
     },
     "execution_count": 28,
     "metadata": {},
     "output_type": "execute_result"
    }
   ],
   "source": [
    "import pandas as pd\n",
    "row=pd.DataFrame([['ABHAY',19],['SID',20]],columns=['NAME',\"AGE\"])\n",
    "row"
   ]
  },
  {
   "cell_type": "code",
   "execution_count": null,
   "id": "62fe9bbf-4cb4-4700-8e8f-c604782316ef",
   "metadata": {},
   "outputs": [],
   "source": []
  },
  {
   "cell_type": "code",
   "execution_count": 33,
   "id": "48b1022f-310a-4c46-a3c8-86f03badb63e",
   "metadata": {},
   "outputs": [
    {
     "name": "stdout",
     "output_type": "stream",
     "text": [
      "        NAME  AGE Branch\n",
      "Row1  PIYUSH   20    CSB\n",
      "Row2   AMRIT   19    CSB\n",
      "Row3   SWYAM   19   CSAI\n",
      "Row4  ANURAG   19   CSAI\n"
     ]
    }
   ],
   "source": [
    "import pandas as pd\n",
    "\n",
    "list2 ={\n",
    "    'NAME': pd.Series(['PIYUSH', 'AMRIT', 'SWYAM', 'ANURAG'], index=['Row1', 'Row2', 'Row3', 'Row4']),\n",
    "    'AGE': pd.Series([20, 19, 19, 19], index=['Row1', 'Row2', 'Row3', 'Row4']),\n",
    "    'Branch': pd.Series(['CSB', 'CSB', 'CSAI', 'CSAI'], index=['Row1', 'Row2', 'Row3', 'Row4'])\n",
    "}\n",
    "\n",
    "df1 = pd.DataFrame(list2)\n",
    "print(df1)\n",
    "\n"
   ]
  },
  {
   "cell_type": "code",
   "execution_count": 39,
   "id": "df00f144-d227-418c-9d4b-0fa3c816331a",
   "metadata": {},
   "outputs": [
    {
     "name": "stdout",
     "output_type": "stream",
     "text": [
      "    NAME  AGE\n",
      "0  Abhay   19\n",
      "1    Sid   20\n"
     ]
    }
   ],
   "source": [
    "row1=pd.DataFrame([['Abhay',19],['Sid',20]],columns = ['NAME','AGE'])\n",
    "print(row1)"
   ]
  },
  {
   "cell_type": "code",
   "execution_count": 38,
   "id": "6d6bdea2-ea0d-4397-9f40-4fb064695b0c",
   "metadata": {},
   "outputs": [
    {
     "name": "stdout",
     "output_type": "stream",
     "text": [
      "    NAME  AGE\n",
      "0  Abhay   19\n",
      "1    Sid   20\n"
     ]
    }
   ],
   "source": [
    "import pandas as pd\n",
    "\n",
    "row1 = pd.DataFrame([['Abhay', 19], ['Sid', 20]], columns=['NAME', 'AGE'])\n",
    "print(row1)\n"
   ]
  },
  {
   "cell_type": "code",
   "execution_count": 10,
   "id": "f1552d77-cf02-4eae-afc6-2dc03c5c3092",
   "metadata": {},
   "outputs": [],
   "source": [
    "# import pandas as pd\n",
    "# import numpy as np\n",
    "# df = pd.DataFrame([[1, 2], [3, 4]], columns=list('AB'))\n",
    "# print(df)\n",
    "\n",
    "\n",
    "#  df2 = pd.DataFrame([[5, 6], [7, 8]], columns=list('AB'))\n",
    "#  df.append(df2)\n",
    "# print(df2)"
   ]
  },
  {
   "cell_type": "code",
   "execution_count": 9,
   "id": "059588dd-cac6-4a8a-b5db-3cc4b7ecaf6b",
   "metadata": {},
   "outputs": [],
   "source": [
    "# import pandas as pd\n",
    "# import numpy as np\n",
    "\n",
    "# df = pd.DataFrame([[1, 2], [3, 4]], columns=list('AB'))\n",
    "# print(df)\n",
    "\n",
    "# df2 = pd.DataFrame([[5, 6], [7, 8]], columns=list('AB'))\n",
    "# df = df.append(df2)  # Assign the result back to df\n",
    "# print(df)\n"
   ]
  },
  {
   "cell_type": "code",
   "execution_count": 6,
   "id": "3f3560b6-baba-40d6-bc85-56011422bde8",
   "metadata": {},
   "outputs": [
    {
     "name": "stdout",
     "output_type": "stream",
     "text": [
      "   Name  Age\n",
      "0  John   25\n",
      "1   Sam   20\n",
      "2  Eric   30\n",
      "3   Ken   28\n"
     ]
    }
   ],
   "source": [
    "import pandas as pd\n",
    "list2 = [{'Name': 'John','Age':25}, {'Name':'Sam','Age':20},\n",
    "         {'Name':'Eric','Age':30},{'Name':'Ken','Age':28}]\n",
    "dataframe2=pd.DataFrame(list2)\n",
    "# print (dataframe2 [['Name','Age']])\n",
    "print(dataframe2)\n"
   ]
  },
  {
   "cell_type": "code",
   "execution_count": 22,
   "id": "9ebc4767-458e-455c-96c3-7b30ba125c7d",
   "metadata": {},
   "outputs": [
    {
     "name": "stdout",
     "output_type": "stream",
     "text": [
      "  name AGE\n",
      "4  PIY  20\n",
      "5  ABC  19\n",
      "6  XYZ  19\n"
     ]
    }
   ],
   "source": [
    "import pandas as pd\n",
    "dict1 = {\n",
    "    'name' :pd.Series (['PIY','ABC','XYZ'],index=[1,2,3]),\n",
    "    'AGE' : pd.Series(['20','19','19'],index=[1,2,3])\n",
    "}\n",
    "df1=pd.DataFrame(dict1)\n",
    "print(df2)"
   ]
  },
  {
   "cell_type": "code",
   "execution_count": 23,
   "id": "f429bd73-5aa5-4420-b4eb-33979603f7ac",
   "metadata": {},
   "outputs": [
    {
     "name": "stdout",
     "output_type": "stream",
     "text": [
      "  name AGE\n",
      "4  PIY  20\n",
      "5  ABC  19\n",
      "6  XYZ  19\n"
     ]
    }
   ],
   "source": [
    "dict2 = {\n",
    "      'name' :pd.Series (['PIY','ABC','XYZ'],index=[4,5,6]),\n",
    "    'AGE' : pd.Series(['20','19','19'],index=[4,5,6])\n",
    "}\n",
    "df2=pd.DataFrame(dict2)\n",
    "print(df2)"
   ]
  },
  {
   "cell_type": "code",
   "execution_count": 24,
   "id": "1bf5fcc0-90d0-450a-94ea-229501bac229",
   "metadata": {},
   "outputs": [
    {
     "name": "stdout",
     "output_type": "stream",
     "text": [
      "  name AGE\n",
      "1  PIY  20\n",
      "2  ABC  19\n",
      "3  XYZ  19\n",
      "4  PIY  20\n",
      "5  ABC  19\n",
      "6  XYZ  19\n"
     ]
    }
   ],
   "source": [
    "result=pd.concat([df1,df2])\n",
    "print(result)"
   ]
  },
  {
   "cell_type": "code",
   "execution_count": 27,
   "id": "512f89e3-5ef2-4465-93c9-75e670b2fd93",
   "metadata": {},
   "outputs": [
    {
     "name": "stdout",
     "output_type": "stream",
     "text": [
      "  name  AGE name  AGE\n",
      "1  PIY   20  NaN  NaN\n",
      "2  ABC   19  NaN  NaN\n",
      "3  XYZ   19  NaN  NaN\n",
      "4  NaN  NaN  PIY   20\n",
      "5  NaN  NaN  ABC   19\n",
      "6  NaN  NaN  XYZ   19\n"
     ]
    }
   ],
   "source": [
    "result=pd.concat([df1,df2],axis=1)\n",
    "print(result)"
   ]
  },
  {
   "cell_type": "code",
   "execution_count": 60,
   "id": "68d8a663-bf2b-443b-9352-cf438c098b1f",
   "metadata": {},
   "outputs": [
    {
     "name": "stdout",
     "output_type": "stream",
     "text": [
      "  S.Id Name\n",
      "1  101  ABC\n",
      "2  102  DEF\n",
      "3  103  GHI\n",
      "4  104  JKL\n",
      "5  105  MNO\n",
      "\n",
      "  S.Id Course\n",
      "1  101    DSA\n",
      "2  102     ML\n",
      "3  103     CS\n",
      "4  105   WEBD\n",
      "5  106   AppD\n",
      "\n",
      "  S.Id Name Course\n",
      "0  101  ABC    DSA\n",
      "1  102  DEF     ML\n",
      "2  103  GHI     CS\n",
      "3  104  JKL    NaN\n",
      "4  105  MNO   WEBD\n",
      "5  106  NaN   AppD\n"
     ]
    }
   ],
   "source": [
    "list1 = {\n",
    "    'S.Id': pd.Series(['101','102','103','104','105'],index=[1,2,3,4,5]),\n",
    "    'Name': pd.Series(['ABC','DEF','GHI','JKL','MNO'],index=[1,2,3,4,5]),\n",
    "    \n",
    "}\n",
    "list2 = {\n",
    "    'S.Id': pd.Series(['101','102','103','105','106'],index=[1,2,3,4,5]),\n",
    "    'Course':pd.Series(['DSA','ML','CS','WEBD','AppD'],index=[1,2,3,4,5])\n",
    "}\n",
    "df1=pd.DataFrame(list1)\n",
    "df2=pd.DataFrame(list2)\n",
    "print(df1)\n",
    "print()\n",
    "print(df2)\n",
    "print()\n",
    "# if both df have same column name\n",
    "print(pd.merge(df1,df2,on=['S.Id'],how='outer'))"
   ]
  },
  {
   "cell_type": "code",
   "execution_count": 57,
   "id": "f8b15ce7-395d-4764-8a3a-d1be2a17bf41",
   "metadata": {},
   "outputs": [
    {
     "data": {
      "text/html": [
       "<div>\n",
       "<style scoped>\n",
       "    .dataframe tbody tr th:only-of-type {\n",
       "        vertical-align: middle;\n",
       "    }\n",
       "\n",
       "    .dataframe tbody tr th {\n",
       "        vertical-align: top;\n",
       "    }\n",
       "\n",
       "    .dataframe thead th {\n",
       "        text-align: right;\n",
       "    }\n",
       "</style>\n",
       "<table border=\"1\" class=\"dataframe\">\n",
       "  <thead>\n",
       "    <tr style=\"text-align: right;\">\n",
       "      <th></th>\n",
       "      <th>S.Id</th>\n",
       "      <th>Name</th>\n",
       "      <th>Course</th>\n",
       "    </tr>\n",
       "  </thead>\n",
       "  <tbody>\n",
       "    <tr>\n",
       "      <th>0</th>\n",
       "      <td>101</td>\n",
       "      <td>ABC</td>\n",
       "      <td>DSA</td>\n",
       "    </tr>\n",
       "    <tr>\n",
       "      <th>1</th>\n",
       "      <td>102</td>\n",
       "      <td>DEF</td>\n",
       "      <td>ML</td>\n",
       "    </tr>\n",
       "    <tr>\n",
       "      <th>2</th>\n",
       "      <td>103</td>\n",
       "      <td>GHI</td>\n",
       "      <td>CS</td>\n",
       "    </tr>\n",
       "    <tr>\n",
       "      <th>3</th>\n",
       "      <td>105</td>\n",
       "      <td>MNO</td>\n",
       "      <td>WEBD</td>\n",
       "    </tr>\n",
       "  </tbody>\n",
       "</table>\n",
       "</div>"
      ],
      "text/plain": [
       "  S.Id Name Course\n",
       "0  101  ABC    DSA\n",
       "1  102  DEF     ML\n",
       "2  103  GHI     CS\n",
       "3  105  MNO   WEBD"
      ]
     },
     "execution_count": 57,
     "metadata": {},
     "output_type": "execute_result"
    }
   ],
   "source": [
    "# if both df have diff column name\n",
    "\n",
    "pd.merge(df1,df2,left_on='S.Id',right_on='S.Id',how='inner')"
   ]
  },
  {
   "cell_type": "code",
   "execution_count": 44,
   "id": "4ff2b668-8312-4259-a1a9-b63c5b62ab89",
   "metadata": {},
   "outputs": [
    {
     "name": "stdout",
     "output_type": "stream",
     "text": [
      "  S.Id Name Course\n",
      "0  101  ABC    DSA\n",
      "1  102  DEF     ML\n",
      "2  103  GHI     CS\n",
      "3  105  MNO   WEBD\n"
     ]
    }
   ],
   "source": [
    "result=pd.merge(df1,df2,left_on='S.Id',right_on='S.Id',how='inner')\n",
    "print(result)"
   ]
  },
  {
   "cell_type": "code",
   "execution_count": 45,
   "id": "a26cefbd-2a27-45dd-9d56-5d8cd418f670",
   "metadata": {},
   "outputs": [
    {
     "data": {
      "text/html": [
       "<div>\n",
       "<style scoped>\n",
       "    .dataframe tbody tr th:only-of-type {\n",
       "        vertical-align: middle;\n",
       "    }\n",
       "\n",
       "    .dataframe tbody tr th {\n",
       "        vertical-align: top;\n",
       "    }\n",
       "\n",
       "    .dataframe thead th {\n",
       "        text-align: right;\n",
       "    }\n",
       "</style>\n",
       "<table border=\"1\" class=\"dataframe\">\n",
       "  <thead>\n",
       "    <tr style=\"text-align: right;\">\n",
       "      <th></th>\n",
       "      <th>S.Id</th>\n",
       "      <th>Name</th>\n",
       "      <th>Course</th>\n",
       "    </tr>\n",
       "  </thead>\n",
       "  <tbody>\n",
       "    <tr>\n",
       "      <th>0</th>\n",
       "      <td>101</td>\n",
       "      <td>ABC</td>\n",
       "      <td>DSA</td>\n",
       "    </tr>\n",
       "    <tr>\n",
       "      <th>1</th>\n",
       "      <td>102</td>\n",
       "      <td>DEF</td>\n",
       "      <td>ML</td>\n",
       "    </tr>\n",
       "    <tr>\n",
       "      <th>2</th>\n",
       "      <td>103</td>\n",
       "      <td>GHI</td>\n",
       "      <td>CS</td>\n",
       "    </tr>\n",
       "    <tr>\n",
       "      <th>3</th>\n",
       "      <td>104</td>\n",
       "      <td>JKL</td>\n",
       "      <td>NaN</td>\n",
       "    </tr>\n",
       "    <tr>\n",
       "      <th>4</th>\n",
       "      <td>105</td>\n",
       "      <td>MNO</td>\n",
       "      <td>WEBD</td>\n",
       "    </tr>\n",
       "    <tr>\n",
       "      <th>5</th>\n",
       "      <td>106</td>\n",
       "      <td>NaN</td>\n",
       "      <td>AppD</td>\n",
       "    </tr>\n",
       "  </tbody>\n",
       "</table>\n",
       "</div>"
      ],
      "text/plain": [
       "  S.Id Name Course\n",
       "0  101  ABC    DSA\n",
       "1  102  DEF     ML\n",
       "2  103  GHI     CS\n",
       "3  104  JKL    NaN\n",
       "4  105  MNO   WEBD\n",
       "5  106  NaN   AppD"
      ]
     },
     "execution_count": 45,
     "metadata": {},
     "output_type": "execute_result"
    }
   ],
   "source": [
    "pd.merge(df1,df2,left_on='S.Id',right_on='S.Id',how='outer')"
   ]
  },
  {
   "cell_type": "code",
   "execution_count": 46,
   "id": "d5a0fa1d-dc30-4046-b962-67e83e110299",
   "metadata": {},
   "outputs": [
    {
     "data": {
      "text/html": [
       "<div>\n",
       "<style scoped>\n",
       "    .dataframe tbody tr th:only-of-type {\n",
       "        vertical-align: middle;\n",
       "    }\n",
       "\n",
       "    .dataframe tbody tr th {\n",
       "        vertical-align: top;\n",
       "    }\n",
       "\n",
       "    .dataframe thead th {\n",
       "        text-align: right;\n",
       "    }\n",
       "</style>\n",
       "<table border=\"1\" class=\"dataframe\">\n",
       "  <thead>\n",
       "    <tr style=\"text-align: right;\">\n",
       "      <th></th>\n",
       "      <th>S.Id</th>\n",
       "      <th>Name</th>\n",
       "      <th>Course</th>\n",
       "    </tr>\n",
       "  </thead>\n",
       "  <tbody>\n",
       "    <tr>\n",
       "      <th>0</th>\n",
       "      <td>101</td>\n",
       "      <td>ABC</td>\n",
       "      <td>DSA</td>\n",
       "    </tr>\n",
       "    <tr>\n",
       "      <th>1</th>\n",
       "      <td>102</td>\n",
       "      <td>DEF</td>\n",
       "      <td>ML</td>\n",
       "    </tr>\n",
       "    <tr>\n",
       "      <th>2</th>\n",
       "      <td>103</td>\n",
       "      <td>GHI</td>\n",
       "      <td>CS</td>\n",
       "    </tr>\n",
       "    <tr>\n",
       "      <th>3</th>\n",
       "      <td>104</td>\n",
       "      <td>JKL</td>\n",
       "      <td>NaN</td>\n",
       "    </tr>\n",
       "    <tr>\n",
       "      <th>4</th>\n",
       "      <td>105</td>\n",
       "      <td>MNO</td>\n",
       "      <td>WEBD</td>\n",
       "    </tr>\n",
       "  </tbody>\n",
       "</table>\n",
       "</div>"
      ],
      "text/plain": [
       "  S.Id Name Course\n",
       "0  101  ABC    DSA\n",
       "1  102  DEF     ML\n",
       "2  103  GHI     CS\n",
       "3  104  JKL    NaN\n",
       "4  105  MNO   WEBD"
      ]
     },
     "execution_count": 46,
     "metadata": {},
     "output_type": "execute_result"
    }
   ],
   "source": [
    "pd.merge(df1,df2,left_on='S.Id',right_on='S.Id',how='left')"
   ]
  },
  {
   "cell_type": "code",
   "execution_count": 47,
   "id": "5ef291cf-fff5-4352-a741-03d07ccb177a",
   "metadata": {},
   "outputs": [
    {
     "data": {
      "text/html": [
       "<div>\n",
       "<style scoped>\n",
       "    .dataframe tbody tr th:only-of-type {\n",
       "        vertical-align: middle;\n",
       "    }\n",
       "\n",
       "    .dataframe tbody tr th {\n",
       "        vertical-align: top;\n",
       "    }\n",
       "\n",
       "    .dataframe thead th {\n",
       "        text-align: right;\n",
       "    }\n",
       "</style>\n",
       "<table border=\"1\" class=\"dataframe\">\n",
       "  <thead>\n",
       "    <tr style=\"text-align: right;\">\n",
       "      <th></th>\n",
       "      <th>S.Id</th>\n",
       "      <th>Name</th>\n",
       "      <th>Course</th>\n",
       "    </tr>\n",
       "  </thead>\n",
       "  <tbody>\n",
       "    <tr>\n",
       "      <th>0</th>\n",
       "      <td>101</td>\n",
       "      <td>ABC</td>\n",
       "      <td>DSA</td>\n",
       "    </tr>\n",
       "    <tr>\n",
       "      <th>1</th>\n",
       "      <td>102</td>\n",
       "      <td>DEF</td>\n",
       "      <td>ML</td>\n",
       "    </tr>\n",
       "    <tr>\n",
       "      <th>2</th>\n",
       "      <td>103</td>\n",
       "      <td>GHI</td>\n",
       "      <td>CS</td>\n",
       "    </tr>\n",
       "    <tr>\n",
       "      <th>3</th>\n",
       "      <td>105</td>\n",
       "      <td>MNO</td>\n",
       "      <td>WEBD</td>\n",
       "    </tr>\n",
       "    <tr>\n",
       "      <th>4</th>\n",
       "      <td>106</td>\n",
       "      <td>NaN</td>\n",
       "      <td>AppD</td>\n",
       "    </tr>\n",
       "  </tbody>\n",
       "</table>\n",
       "</div>"
      ],
      "text/plain": [
       "  S.Id Name Course\n",
       "0  101  ABC    DSA\n",
       "1  102  DEF     ML\n",
       "2  103  GHI     CS\n",
       "3  105  MNO   WEBD\n",
       "4  106  NaN   AppD"
      ]
     },
     "execution_count": 47,
     "metadata": {},
     "output_type": "execute_result"
    }
   ],
   "source": [
    "pd.merge(df1,df2,left_on='S.Id',right_on='S.Id',how='right')"
   ]
  },
  {
   "cell_type": "code",
   "execution_count": 62,
   "id": "806da45e-64eb-4017-bf72-6b5048098618",
   "metadata": {},
   "outputs": [
    {
     "name": "stdout",
     "output_type": "stream",
     "text": [
      "  S.Id Name Course\n",
      "1  101  ABC    DSA\n",
      "2  102  DEF     ML\n",
      "3  103  GHI     CS\n",
      "4  104  JKL   WEBD\n",
      "5  105  MNO   AppD\n",
      "\n",
      "  S.Id Name Course\n",
      "1  101   BC     ML\n",
      "2  102   EF    DSA\n",
      "3  103   GI     CS\n",
      "4  105   KL   WEBD\n",
      "5  106   NO   AppD\n"
     ]
    }
   ],
   "source": [
    "list1 = {\n",
    "    'S.Id': pd.Series(['101','102','103','104','105'],index=[1,2,3,4,5]),\n",
    "    'Name': pd.Series(['ABC','DEF','GHI','JKL','MNO'],index=[1,2,3,4,5]),\n",
    "        'Course':pd.Series(['DSA','ML','CS','WEBD','AppD'],index=[1,2,3,4,5])\n",
    "\n",
    "}\n",
    "list2 = {\n",
    "    'S.Id': pd.Series(['101','102','103','105','106'],index=[1,2,3,4,5]),\n",
    "        'Name': pd.Series(['BC','EF','GI','KL','NO'],index=[1,2,3,4,5]),\n",
    "\n",
    "    'Course':pd.Series(['ML','DSA','CS','WEBD','AppD'],index=[1,2,3,4,5])\n",
    "}\n",
    "df1=pd.DataFrame(list1)\n",
    "df2=pd.DataFrame(list2)\n",
    "print(df1)\n",
    "print()\n",
    "print(df2)"
   ]
  },
  {
   "cell_type": "code",
   "execution_count": 63,
   "id": "9fe7292b-1507-4ca2-b96b-190025a6f883",
   "metadata": {},
   "outputs": [
    {
     "data": {
      "text/html": [
       "<div>\n",
       "<style scoped>\n",
       "    .dataframe tbody tr th:only-of-type {\n",
       "        vertical-align: middle;\n",
       "    }\n",
       "\n",
       "    .dataframe tbody tr th {\n",
       "        vertical-align: top;\n",
       "    }\n",
       "\n",
       "    .dataframe thead th {\n",
       "        text-align: right;\n",
       "    }\n",
       "</style>\n",
       "<table border=\"1\" class=\"dataframe\">\n",
       "  <thead>\n",
       "    <tr style=\"text-align: right;\">\n",
       "      <th></th>\n",
       "      <th>S.Id</th>\n",
       "      <th>Name_x</th>\n",
       "      <th>Course</th>\n",
       "      <th>Name_y</th>\n",
       "    </tr>\n",
       "  </thead>\n",
       "  <tbody>\n",
       "    <tr>\n",
       "      <th>0</th>\n",
       "      <td>103</td>\n",
       "      <td>GHI</td>\n",
       "      <td>CS</td>\n",
       "      <td>GI</td>\n",
       "    </tr>\n",
       "  </tbody>\n",
       "</table>\n",
       "</div>"
      ],
      "text/plain": [
       "  S.Id Name_x Course Name_y\n",
       "0  103    GHI     CS     GI"
      ]
     },
     "execution_count": 63,
     "metadata": {},
     "output_type": "execute_result"
    }
   ],
   "source": [
    "pd.merge(df1,df2,on=['S.Id','Course'])"
   ]
  },
  {
   "cell_type": "code",
   "execution_count": null,
   "id": "71bcde43-8556-4304-a02d-276ab019e696",
   "metadata": {},
   "outputs": [],
   "source": []
  },
  {
   "cell_type": "code",
   "execution_count": null,
   "id": "5d4e544a-1ab4-4492-9f6c-3e18f3b3a7ed",
   "metadata": {},
   "outputs": [],
   "source": []
  },
  {
   "cell_type": "code",
   "execution_count": null,
   "id": "f40b6a0b-6070-4422-833d-fd863b0aa4c7",
   "metadata": {},
   "outputs": [],
   "source": []
  },
  {
   "cell_type": "code",
   "execution_count": null,
   "id": "2f0aeda0-d4c0-4480-a5a9-6e44e497f1ff",
   "metadata": {},
   "outputs": [],
   "source": []
  },
  {
   "cell_type": "code",
   "execution_count": null,
   "id": "6bf7366b-5598-42f9-b9e6-c88e3bf30b0f",
   "metadata": {},
   "outputs": [],
   "source": []
  }
 ],
 "metadata": {
  "kernelspec": {
   "display_name": "Python 3 (ipykernel)",
   "language": "python",
   "name": "python3"
  },
  "language_info": {
   "codemirror_mode": {
    "name": "ipython",
    "version": 3
   },
   "file_extension": ".py",
   "mimetype": "text/x-python",
   "name": "python",
   "nbconvert_exporter": "python",
   "pygments_lexer": "ipython3",
   "version": "3.12.0"
  }
 },
 "nbformat": 4,
 "nbformat_minor": 5
}
